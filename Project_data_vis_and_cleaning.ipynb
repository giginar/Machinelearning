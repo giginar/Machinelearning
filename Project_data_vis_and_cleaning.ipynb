{
  "nbformat": 4,
  "nbformat_minor": 0,
  "metadata": {
    "colab": {
      "name": "Project_data_vis_and_cleaning.ipynb",
      "provenance": [],
      "collapsed_sections": [],
      "toc_visible": true,
      "include_colab_link": true
    },
    "kernelspec": {
      "name": "python3",
      "display_name": "Python 3"
    },
    "language_info": {
      "name": "python"
    }
  },
  "cells": [
    {
      "cell_type": "markdown",
      "metadata": {
        "id": "view-in-github",
        "colab_type": "text"
      },
      "source": [
        "<a href=\"https://colab.research.google.com/github/giginar/Machinelearning/blob/main/Project_data_vis_and_cleaning.ipynb\" target=\"_parent\"><img src=\"https://colab.research.google.com/assets/colab-badge.svg\" alt=\"Open In Colab\"/></a>"
      ]
    },
    {
      "cell_type": "markdown",
      "metadata": {
        "id": "K5WoNQ8hi7GO"
      },
      "source": [
        "###Imports"
      ]
    },
    {
      "cell_type": "code",
      "metadata": {
        "colab": {
          "base_uri": "https://localhost:8080/"
        },
        "id": "hnOP_0jB_jIA",
        "outputId": "bea06c90-6208-40f2-a431-87fe68a6cf75"
      },
      "source": [
        "from google.colab import drive\n",
        "drive.mount('/content/drive')"
      ],
      "execution_count": null,
      "outputs": [
        {
          "output_type": "stream",
          "text": [
            "Drive already mounted at /content/drive; to attempt to forcibly remount, call drive.mount(\"/content/drive\", force_remount=True).\n"
          ],
          "name": "stdout"
        }
      ]
    },
    {
      "cell_type": "code",
      "metadata": {
        "id": "EHUKdD8Oybie"
      },
      "source": [
        "import numpy as np\n",
        "import pandas as pd\n",
        "import matplotlib.pyplot as plt\n",
        "%matplotlib inline\n",
        "import seaborn as sns\n",
        "sns.set()"
      ],
      "execution_count": null,
      "outputs": []
    },
    {
      "cell_type": "markdown",
      "metadata": {
        "id": "I87kGLx-i94a"
      },
      "source": [
        "###Data information and Load"
      ]
    },
    {
      "cell_type": "markdown",
      "metadata": {
        "id": "EX6xzYhfjG3Q"
      },
      "source": [
        "amount_tsh – Total static head (amount water available to waterpoint)\n",
        "\n",
        "date_recorded – The date the row was entered\n",
        "\n",
        "funder – Who funded the well\n",
        "\n",
        "gps_height – Altitude of the well\n",
        "\n",
        "installer – Organization that installed the well\n",
        "\n",
        "longitude – GPS coordinate\n",
        "\n",
        "latitude – GPS coordinate\n",
        "\n",
        "wpt_name – Name of the waterpoint if there is one\n",
        "\n",
        "num_private -No description\n",
        "\n",
        "basin – Geographic water basin\n",
        "\n",
        "subvillage – Geographic location\n",
        "\n",
        "region – Geographic location\n",
        "\n",
        "region_code – Geographic location (coded)\n",
        "\n",
        "district_code – Geographic location (coded)\n",
        "\n",
        "lga – Geographic location\n",
        "\n",
        "ward – Geographic location\n",
        "\n",
        "population – Population around the well\n",
        "\n",
        "public_meeting – True/False\n",
        "\n",
        "recorded_by – Group entering this row of data\n",
        "\n",
        "scheme_management – Who operates the water point\n",
        "\n",
        "scheme_name – Who operates the water point\n",
        "\n",
        "permit – If the water point is permitted\n",
        "\n",
        "construction_year – Year the water point was constructed\n",
        "\n",
        "extraction_type – The kind of extraction the water point uses\n",
        "\n",
        "extraction_type_group – The kind of extraction the water point uses\n",
        "\n",
        "extraction_type_class – The kind of extraction the water point uses\n",
        "\n",
        "management – How the water point is managed\n",
        "\n",
        "management_group – How the water point is managed\n",
        "\n",
        "payment – What the water costs\n",
        "\n",
        "payment_type – What the water costs\n",
        "\n",
        "water_quality – The quality of the water\n",
        "\n",
        "quality_group – The quality of the water\n",
        "\n",
        "quantity – The quantity of water\n",
        "\n",
        "quantity_group – The quantity of water\n",
        "\n",
        "source – The source of the water\n",
        "\n",
        "source_type – The source of the water\n",
        "\n",
        "source_class – The source of the water\n",
        "\n",
        "waterpoint_type – The kind of waterpoint\n",
        "\n",
        "waterpoint_type_group – The kind of waterpoint"
      ]
    },
    {
      "cell_type": "code",
      "metadata": {
        "colab": {
          "base_uri": "https://localhost:8080/"
        },
        "id": "XCzg_oZh1lf9",
        "outputId": "c3878226-b7f5-45dc-c9d1-d4b4a99fe51e"
      },
      "source": [
        "df_labels = pd.read_csv(\"/content/drive/MyDrive/Dersler/8_IT541_Machine_Learning/project/training_set_labels.csv\")\n",
        "df_values = pd.read_csv(\"/content/drive/MyDrive/Dersler/8_IT541_Machine_Learning/project/training_set_values.csv\")\n",
        "df = pd.merge(df_values, df_labels, on='id')\n",
        "df.info()"
      ],
      "execution_count": null,
      "outputs": [
        {
          "output_type": "stream",
          "text": [
            "<class 'pandas.core.frame.DataFrame'>\n",
            "Int64Index: 59400 entries, 0 to 59399\n",
            "Data columns (total 41 columns):\n",
            " #   Column                 Non-Null Count  Dtype  \n",
            "---  ------                 --------------  -----  \n",
            " 0   id                     59400 non-null  int64  \n",
            " 1   amount_tsh             59400 non-null  float64\n",
            " 2   date_recorded          59400 non-null  object \n",
            " 3   funder                 55765 non-null  object \n",
            " 4   gps_height             59400 non-null  int64  \n",
            " 5   installer              55745 non-null  object \n",
            " 6   longitude              59400 non-null  float64\n",
            " 7   latitude               59400 non-null  float64\n",
            " 8   wpt_name               59400 non-null  object \n",
            " 9   num_private            59400 non-null  int64  \n",
            " 10  basin                  59400 non-null  object \n",
            " 11  subvillage             59029 non-null  object \n",
            " 12  region                 59400 non-null  object \n",
            " 13  region_code            59400 non-null  int64  \n",
            " 14  district_code          59400 non-null  int64  \n",
            " 15  lga                    59400 non-null  object \n",
            " 16  ward                   59400 non-null  object \n",
            " 17  population             59400 non-null  int64  \n",
            " 18  public_meeting         56066 non-null  object \n",
            " 19  recorded_by            59400 non-null  object \n",
            " 20  scheme_management      55523 non-null  object \n",
            " 21  scheme_name            31234 non-null  object \n",
            " 22  permit                 56344 non-null  object \n",
            " 23  construction_year      59400 non-null  int64  \n",
            " 24  extraction_type        59400 non-null  object \n",
            " 25  extraction_type_group  59400 non-null  object \n",
            " 26  extraction_type_class  59400 non-null  object \n",
            " 27  management             59400 non-null  object \n",
            " 28  management_group       59400 non-null  object \n",
            " 29  payment                59400 non-null  object \n",
            " 30  payment_type           59400 non-null  object \n",
            " 31  water_quality          59400 non-null  object \n",
            " 32  quality_group          59400 non-null  object \n",
            " 33  quantity               59400 non-null  object \n",
            " 34  quantity_group         59400 non-null  object \n",
            " 35  source                 59400 non-null  object \n",
            " 36  source_type            59400 non-null  object \n",
            " 37  source_class           59400 non-null  object \n",
            " 38  waterpoint_type        59400 non-null  object \n",
            " 39  waterpoint_type_group  59400 non-null  object \n",
            " 40  status_group           59400 non-null  object \n",
            "dtypes: float64(3), int64(7), object(31)\n",
            "memory usage: 19.0+ MB\n"
          ],
          "name": "stdout"
        }
      ]
    },
    {
      "cell_type": "code",
      "metadata": {
        "colab": {
          "base_uri": "https://localhost:8080/",
          "height": 411
        },
        "id": "VRf0hEDZ2agS",
        "outputId": "177c6540-4af9-4fc9-ad8b-56478ac8d65d"
      },
      "source": [
        "df.head()"
      ],
      "execution_count": null,
      "outputs": [
        {
          "output_type": "execute_result",
          "data": {
            "text/html": [
              "<div>\n",
              "<style scoped>\n",
              "    .dataframe tbody tr th:only-of-type {\n",
              "        vertical-align: middle;\n",
              "    }\n",
              "\n",
              "    .dataframe tbody tr th {\n",
              "        vertical-align: top;\n",
              "    }\n",
              "\n",
              "    .dataframe thead th {\n",
              "        text-align: right;\n",
              "    }\n",
              "</style>\n",
              "<table border=\"1\" class=\"dataframe\">\n",
              "  <thead>\n",
              "    <tr style=\"text-align: right;\">\n",
              "      <th></th>\n",
              "      <th>id</th>\n",
              "      <th>amount_tsh</th>\n",
              "      <th>date_recorded</th>\n",
              "      <th>funder</th>\n",
              "      <th>gps_height</th>\n",
              "      <th>installer</th>\n",
              "      <th>longitude</th>\n",
              "      <th>latitude</th>\n",
              "      <th>wpt_name</th>\n",
              "      <th>num_private</th>\n",
              "      <th>basin</th>\n",
              "      <th>subvillage</th>\n",
              "      <th>region</th>\n",
              "      <th>region_code</th>\n",
              "      <th>district_code</th>\n",
              "      <th>lga</th>\n",
              "      <th>ward</th>\n",
              "      <th>population</th>\n",
              "      <th>public_meeting</th>\n",
              "      <th>recorded_by</th>\n",
              "      <th>scheme_management</th>\n",
              "      <th>scheme_name</th>\n",
              "      <th>permit</th>\n",
              "      <th>construction_year</th>\n",
              "      <th>extraction_type</th>\n",
              "      <th>extraction_type_group</th>\n",
              "      <th>extraction_type_class</th>\n",
              "      <th>management</th>\n",
              "      <th>management_group</th>\n",
              "      <th>payment</th>\n",
              "      <th>payment_type</th>\n",
              "      <th>water_quality</th>\n",
              "      <th>quality_group</th>\n",
              "      <th>quantity</th>\n",
              "      <th>quantity_group</th>\n",
              "      <th>source</th>\n",
              "      <th>source_type</th>\n",
              "      <th>source_class</th>\n",
              "      <th>waterpoint_type</th>\n",
              "      <th>waterpoint_type_group</th>\n",
              "      <th>status_group</th>\n",
              "    </tr>\n",
              "  </thead>\n",
              "  <tbody>\n",
              "    <tr>\n",
              "      <th>0</th>\n",
              "      <td>69572</td>\n",
              "      <td>6000.0</td>\n",
              "      <td>2011-03-14</td>\n",
              "      <td>Roman</td>\n",
              "      <td>1390</td>\n",
              "      <td>Roman</td>\n",
              "      <td>34.938093</td>\n",
              "      <td>-9.856322</td>\n",
              "      <td>none</td>\n",
              "      <td>0</td>\n",
              "      <td>Lake Nyasa</td>\n",
              "      <td>Mnyusi B</td>\n",
              "      <td>Iringa</td>\n",
              "      <td>11</td>\n",
              "      <td>5</td>\n",
              "      <td>Ludewa</td>\n",
              "      <td>Mundindi</td>\n",
              "      <td>109</td>\n",
              "      <td>True</td>\n",
              "      <td>GeoData Consultants Ltd</td>\n",
              "      <td>VWC</td>\n",
              "      <td>Roman</td>\n",
              "      <td>False</td>\n",
              "      <td>1999</td>\n",
              "      <td>gravity</td>\n",
              "      <td>gravity</td>\n",
              "      <td>gravity</td>\n",
              "      <td>vwc</td>\n",
              "      <td>user-group</td>\n",
              "      <td>pay annually</td>\n",
              "      <td>annually</td>\n",
              "      <td>soft</td>\n",
              "      <td>good</td>\n",
              "      <td>enough</td>\n",
              "      <td>enough</td>\n",
              "      <td>spring</td>\n",
              "      <td>spring</td>\n",
              "      <td>groundwater</td>\n",
              "      <td>communal standpipe</td>\n",
              "      <td>communal standpipe</td>\n",
              "      <td>functional</td>\n",
              "    </tr>\n",
              "    <tr>\n",
              "      <th>1</th>\n",
              "      <td>8776</td>\n",
              "      <td>0.0</td>\n",
              "      <td>2013-03-06</td>\n",
              "      <td>Grumeti</td>\n",
              "      <td>1399</td>\n",
              "      <td>GRUMETI</td>\n",
              "      <td>34.698766</td>\n",
              "      <td>-2.147466</td>\n",
              "      <td>Zahanati</td>\n",
              "      <td>0</td>\n",
              "      <td>Lake Victoria</td>\n",
              "      <td>Nyamara</td>\n",
              "      <td>Mara</td>\n",
              "      <td>20</td>\n",
              "      <td>2</td>\n",
              "      <td>Serengeti</td>\n",
              "      <td>Natta</td>\n",
              "      <td>280</td>\n",
              "      <td>NaN</td>\n",
              "      <td>GeoData Consultants Ltd</td>\n",
              "      <td>Other</td>\n",
              "      <td>NaN</td>\n",
              "      <td>True</td>\n",
              "      <td>2010</td>\n",
              "      <td>gravity</td>\n",
              "      <td>gravity</td>\n",
              "      <td>gravity</td>\n",
              "      <td>wug</td>\n",
              "      <td>user-group</td>\n",
              "      <td>never pay</td>\n",
              "      <td>never pay</td>\n",
              "      <td>soft</td>\n",
              "      <td>good</td>\n",
              "      <td>insufficient</td>\n",
              "      <td>insufficient</td>\n",
              "      <td>rainwater harvesting</td>\n",
              "      <td>rainwater harvesting</td>\n",
              "      <td>surface</td>\n",
              "      <td>communal standpipe</td>\n",
              "      <td>communal standpipe</td>\n",
              "      <td>functional</td>\n",
              "    </tr>\n",
              "    <tr>\n",
              "      <th>2</th>\n",
              "      <td>34310</td>\n",
              "      <td>25.0</td>\n",
              "      <td>2013-02-25</td>\n",
              "      <td>Lottery Club</td>\n",
              "      <td>686</td>\n",
              "      <td>World vision</td>\n",
              "      <td>37.460664</td>\n",
              "      <td>-3.821329</td>\n",
              "      <td>Kwa Mahundi</td>\n",
              "      <td>0</td>\n",
              "      <td>Pangani</td>\n",
              "      <td>Majengo</td>\n",
              "      <td>Manyara</td>\n",
              "      <td>21</td>\n",
              "      <td>4</td>\n",
              "      <td>Simanjiro</td>\n",
              "      <td>Ngorika</td>\n",
              "      <td>250</td>\n",
              "      <td>True</td>\n",
              "      <td>GeoData Consultants Ltd</td>\n",
              "      <td>VWC</td>\n",
              "      <td>Nyumba ya mungu pipe scheme</td>\n",
              "      <td>True</td>\n",
              "      <td>2009</td>\n",
              "      <td>gravity</td>\n",
              "      <td>gravity</td>\n",
              "      <td>gravity</td>\n",
              "      <td>vwc</td>\n",
              "      <td>user-group</td>\n",
              "      <td>pay per bucket</td>\n",
              "      <td>per bucket</td>\n",
              "      <td>soft</td>\n",
              "      <td>good</td>\n",
              "      <td>enough</td>\n",
              "      <td>enough</td>\n",
              "      <td>dam</td>\n",
              "      <td>dam</td>\n",
              "      <td>surface</td>\n",
              "      <td>communal standpipe multiple</td>\n",
              "      <td>communal standpipe</td>\n",
              "      <td>functional</td>\n",
              "    </tr>\n",
              "    <tr>\n",
              "      <th>3</th>\n",
              "      <td>67743</td>\n",
              "      <td>0.0</td>\n",
              "      <td>2013-01-28</td>\n",
              "      <td>Unicef</td>\n",
              "      <td>263</td>\n",
              "      <td>UNICEF</td>\n",
              "      <td>38.486161</td>\n",
              "      <td>-11.155298</td>\n",
              "      <td>Zahanati Ya Nanyumbu</td>\n",
              "      <td>0</td>\n",
              "      <td>Ruvuma / Southern Coast</td>\n",
              "      <td>Mahakamani</td>\n",
              "      <td>Mtwara</td>\n",
              "      <td>90</td>\n",
              "      <td>63</td>\n",
              "      <td>Nanyumbu</td>\n",
              "      <td>Nanyumbu</td>\n",
              "      <td>58</td>\n",
              "      <td>True</td>\n",
              "      <td>GeoData Consultants Ltd</td>\n",
              "      <td>VWC</td>\n",
              "      <td>NaN</td>\n",
              "      <td>True</td>\n",
              "      <td>1986</td>\n",
              "      <td>submersible</td>\n",
              "      <td>submersible</td>\n",
              "      <td>submersible</td>\n",
              "      <td>vwc</td>\n",
              "      <td>user-group</td>\n",
              "      <td>never pay</td>\n",
              "      <td>never pay</td>\n",
              "      <td>soft</td>\n",
              "      <td>good</td>\n",
              "      <td>dry</td>\n",
              "      <td>dry</td>\n",
              "      <td>machine dbh</td>\n",
              "      <td>borehole</td>\n",
              "      <td>groundwater</td>\n",
              "      <td>communal standpipe multiple</td>\n",
              "      <td>communal standpipe</td>\n",
              "      <td>non functional</td>\n",
              "    </tr>\n",
              "    <tr>\n",
              "      <th>4</th>\n",
              "      <td>19728</td>\n",
              "      <td>0.0</td>\n",
              "      <td>2011-07-13</td>\n",
              "      <td>Action In A</td>\n",
              "      <td>0</td>\n",
              "      <td>Artisan</td>\n",
              "      <td>31.130847</td>\n",
              "      <td>-1.825359</td>\n",
              "      <td>Shuleni</td>\n",
              "      <td>0</td>\n",
              "      <td>Lake Victoria</td>\n",
              "      <td>Kyanyamisa</td>\n",
              "      <td>Kagera</td>\n",
              "      <td>18</td>\n",
              "      <td>1</td>\n",
              "      <td>Karagwe</td>\n",
              "      <td>Nyakasimbi</td>\n",
              "      <td>0</td>\n",
              "      <td>True</td>\n",
              "      <td>GeoData Consultants Ltd</td>\n",
              "      <td>NaN</td>\n",
              "      <td>NaN</td>\n",
              "      <td>True</td>\n",
              "      <td>0</td>\n",
              "      <td>gravity</td>\n",
              "      <td>gravity</td>\n",
              "      <td>gravity</td>\n",
              "      <td>other</td>\n",
              "      <td>other</td>\n",
              "      <td>never pay</td>\n",
              "      <td>never pay</td>\n",
              "      <td>soft</td>\n",
              "      <td>good</td>\n",
              "      <td>seasonal</td>\n",
              "      <td>seasonal</td>\n",
              "      <td>rainwater harvesting</td>\n",
              "      <td>rainwater harvesting</td>\n",
              "      <td>surface</td>\n",
              "      <td>communal standpipe</td>\n",
              "      <td>communal standpipe</td>\n",
              "      <td>functional</td>\n",
              "    </tr>\n",
              "  </tbody>\n",
              "</table>\n",
              "</div>"
            ],
            "text/plain": [
              "      id  amount_tsh  ... waterpoint_type_group    status_group\n",
              "0  69572      6000.0  ...    communal standpipe      functional\n",
              "1   8776         0.0  ...    communal standpipe      functional\n",
              "2  34310        25.0  ...    communal standpipe      functional\n",
              "3  67743         0.0  ...    communal standpipe  non functional\n",
              "4  19728         0.0  ...    communal standpipe      functional\n",
              "\n",
              "[5 rows x 41 columns]"
            ]
          },
          "metadata": {
            "tags": []
          },
          "execution_count": 145
        }
      ]
    },
    {
      "cell_type": "code",
      "metadata": {
        "colab": {
          "base_uri": "https://localhost:8080/"
        },
        "id": "c4A8e0ziAwnL",
        "outputId": "45575a12-d79d-4a70-92ee-bb08455e6641"
      },
      "source": [
        "#cheking if there are null values.\n",
        "df.apply(lambda x: sum(x.isnull()))"
      ],
      "execution_count": null,
      "outputs": [
        {
          "output_type": "execute_result",
          "data": {
            "text/plain": [
              "id                           0\n",
              "amount_tsh                   0\n",
              "date_recorded                0\n",
              "funder                    3635\n",
              "gps_height                   0\n",
              "installer                 3655\n",
              "longitude                    0\n",
              "latitude                     0\n",
              "wpt_name                     0\n",
              "num_private                  0\n",
              "basin                        0\n",
              "subvillage                 371\n",
              "region                       0\n",
              "region_code                  0\n",
              "district_code                0\n",
              "lga                          0\n",
              "ward                         0\n",
              "population                   0\n",
              "public_meeting            3334\n",
              "recorded_by                  0\n",
              "scheme_management         3877\n",
              "scheme_name              28166\n",
              "permit                    3056\n",
              "construction_year            0\n",
              "extraction_type              0\n",
              "extraction_type_group        0\n",
              "extraction_type_class        0\n",
              "management                   0\n",
              "management_group             0\n",
              "payment                      0\n",
              "payment_type                 0\n",
              "water_quality                0\n",
              "quality_group                0\n",
              "quantity                     0\n",
              "quantity_group               0\n",
              "source                       0\n",
              "source_type                  0\n",
              "source_class                 0\n",
              "waterpoint_type              0\n",
              "waterpoint_type_group        0\n",
              "status_group                 0\n",
              "dtype: int64"
            ]
          },
          "metadata": {
            "tags": []
          },
          "execution_count": 146
        }
      ]
    },
    {
      "cell_type": "code",
      "metadata": {
        "id": "CKMTgb_saSdc"
      },
      "source": [
        "#funder,installer,subvillage,public_meeting,scheme_management,scheme_name,permit have some null values."
      ],
      "execution_count": null,
      "outputs": []
    },
    {
      "cell_type": "markdown",
      "metadata": {
        "id": "ngSM_7B9QT2w"
      },
      "source": [
        "###gps_height, longitude, latitude, region_code, district_code"
      ]
    },
    {
      "cell_type": "code",
      "metadata": {
        "colab": {
          "base_uri": "https://localhost:8080/"
        },
        "id": "7Gwx-CIa_6JL",
        "outputId": "3934d963-9b9f-4050-c7bf-428abb4e8d99"
      },
      "source": [
        "print(df.gps_height.value_counts())\n",
        "#2428 different values, will include this feature to the model."
      ],
      "execution_count": null,
      "outputs": [
        {
          "output_type": "stream",
          "text": [
            " 0       20438\n",
            "-15         60\n",
            "-16         55\n",
            "-13         55\n",
            "-20         52\n",
            "         ...  \n",
            " 2285        1\n",
            " 2424        1\n",
            " 2552        1\n",
            " 2413        1\n",
            " 2385        1\n",
            "Name: gps_height, Length: 2428, dtype: int64\n"
          ],
          "name": "stdout"
        }
      ]
    },
    {
      "cell_type": "code",
      "metadata": {
        "colab": {
          "base_uri": "https://localhost:8080/"
        },
        "id": "BYhw8LYg__dI",
        "outputId": "ce0ef14a-fe41-4bd9-c37b-d519d9be2801"
      },
      "source": [
        "print(df.longitude.value_counts())"
      ],
      "execution_count": null,
      "outputs": [
        {
          "output_type": "stream",
          "text": [
            "0.000000     1812\n",
            "37.540901       2\n",
            "33.010510       2\n",
            "39.093484       2\n",
            "32.972719       2\n",
            "             ... \n",
            "37.579803       1\n",
            "33.196490       1\n",
            "34.017119       1\n",
            "33.788326       1\n",
            "30.163579       1\n",
            "Name: longitude, Length: 57516, dtype: int64\n"
          ],
          "name": "stdout"
        }
      ]
    },
    {
      "cell_type": "code",
      "metadata": {
        "colab": {
          "base_uri": "https://localhost:8080/"
        },
        "id": "c6faMPcMAA3f",
        "outputId": "d8b27b52-c75a-4ffd-dc01-48b6531011ec"
      },
      "source": [
        "print(df.latitude.value_counts())"
      ],
      "execution_count": null,
      "outputs": [
        {
          "output_type": "stream",
          "text": [
            "-2.000000e-08    1812\n",
            "-6.985842e+00       2\n",
            "-3.797579e+00       2\n",
            "-6.981884e+00       2\n",
            "-7.104625e+00       2\n",
            "                 ... \n",
            "-5.726001e+00       1\n",
            "-9.646831e+00       1\n",
            "-8.124530e+00       1\n",
            "-2.535985e+00       1\n",
            "-2.598965e+00       1\n",
            "Name: latitude, Length: 57517, dtype: int64\n"
          ],
          "name": "stdout"
        }
      ]
    },
    {
      "cell_type": "code",
      "metadata": {
        "colab": {
          "base_uri": "https://localhost:8080/"
        },
        "id": "QGOVgyhzABXP",
        "outputId": "a62ef045-b047-415f-afd3-43331d4e74ce"
      },
      "source": [
        "print(df.region_code.value_counts())"
      ],
      "execution_count": null,
      "outputs": [
        {
          "output_type": "stream",
          "text": [
            "11    5300\n",
            "17    5011\n",
            "12    4639\n",
            "3     4379\n",
            "5     4040\n",
            "18    3324\n",
            "19    3047\n",
            "2     3024\n",
            "16    2816\n",
            "10    2640\n",
            "4     2513\n",
            "1     2201\n",
            "13    2093\n",
            "14    1979\n",
            "20    1969\n",
            "15    1808\n",
            "6     1609\n",
            "21    1583\n",
            "80    1238\n",
            "60    1025\n",
            "90     917\n",
            "7      805\n",
            "99     423\n",
            "9      390\n",
            "24     326\n",
            "8      300\n",
            "40       1\n",
            "Name: region_code, dtype: int64\n"
          ],
          "name": "stdout"
        }
      ]
    },
    {
      "cell_type": "code",
      "metadata": {
        "colab": {
          "base_uri": "https://localhost:8080/"
        },
        "id": "UoN2gg8UABxY",
        "outputId": "b5e797c1-1114-4ef3-9ee3-cd1180b5d5a4"
      },
      "source": [
        "print(df.district_code.value_counts())"
      ],
      "execution_count": null,
      "outputs": [
        {
          "output_type": "stream",
          "text": [
            "1     12203\n",
            "2     11173\n",
            "3      9998\n",
            "4      8999\n",
            "5      4356\n",
            "6      4074\n",
            "7      3343\n",
            "8      1043\n",
            "30      995\n",
            "33      874\n",
            "53      745\n",
            "43      505\n",
            "13      391\n",
            "23      293\n",
            "63      195\n",
            "62      109\n",
            "60       63\n",
            "0        23\n",
            "80       12\n",
            "67        6\n",
            "Name: district_code, dtype: int64\n"
          ],
          "name": "stdout"
        }
      ]
    },
    {
      "cell_type": "code",
      "metadata": {
        "id": "_w9CjfgH565X"
      },
      "source": [
        "#longitude and latitude these geographical values will not be effective on the model.\n",
        "#num_private is the same.\n",
        "#but region_code and district_code looks like different from each other so i will keep them.\n",
        "df = df.drop(['longitude', 'latitude','num_private'], axis=1)\n"
      ],
      "execution_count": null,
      "outputs": []
    },
    {
      "cell_type": "code",
      "metadata": {
        "id": "FzR8ofYYDQbw"
      },
      "source": [
        "#wpt_name is name of the waterpoint, it wont be effective, so i will drop it.\n",
        "df = df.drop(['wpt_name'], axis=1)"
      ],
      "execution_count": null,
      "outputs": []
    },
    {
      "cell_type": "markdown",
      "metadata": {
        "id": "cAgDWexzQOQg"
      },
      "source": [
        "###ward, lga and region"
      ]
    },
    {
      "cell_type": "code",
      "metadata": {
        "colab": {
          "base_uri": "https://localhost:8080/"
        },
        "id": "XE4bRnenBpA0",
        "outputId": "925b2c2a-cf16-4f92-9a06-796b2fef7bef"
      },
      "source": [
        "print(df.region.value_counts())"
      ],
      "execution_count": null,
      "outputs": [
        {
          "output_type": "stream",
          "text": [
            "Iringa           5294\n",
            "Shinyanga        4982\n",
            "Mbeya            4639\n",
            "Kilimanjaro      4379\n",
            "Morogoro         4006\n",
            "Arusha           3350\n",
            "Kagera           3316\n",
            "Mwanza           3102\n",
            "Kigoma           2816\n",
            "Ruvuma           2640\n",
            "Pwani            2635\n",
            "Tanga            2547\n",
            "Dodoma           2201\n",
            "Singida          2093\n",
            "Mara             1969\n",
            "Tabora           1959\n",
            "Rukwa            1808\n",
            "Mtwara           1730\n",
            "Manyara          1583\n",
            "Lindi            1546\n",
            "Dar es Salaam     805\n",
            "Name: region, dtype: int64\n"
          ],
          "name": "stdout"
        }
      ]
    },
    {
      "cell_type": "code",
      "metadata": {
        "colab": {
          "base_uri": "https://localhost:8080/"
        },
        "id": "YtSsp2QKBo65",
        "outputId": "7fda3838-8ec0-4103-d067-609ce1b542a1"
      },
      "source": [
        "print(df.lga.value_counts())"
      ],
      "execution_count": null,
      "outputs": [
        {
          "output_type": "stream",
          "text": [
            "Njombe          2503\n",
            "Arusha Rural    1252\n",
            "Moshi Rural     1251\n",
            "Bariadi         1177\n",
            "Rungwe          1106\n",
            "                ... \n",
            "Moshi Urban       79\n",
            "Kigoma Urban      71\n",
            "Arusha Urban      63\n",
            "Lindi Urban       21\n",
            "Nyamagana          1\n",
            "Name: lga, Length: 125, dtype: int64\n"
          ],
          "name": "stdout"
        }
      ]
    },
    {
      "cell_type": "code",
      "metadata": {
        "colab": {
          "base_uri": "https://localhost:8080/"
        },
        "id": "nWEeKqK2Bozq",
        "outputId": "156310ce-8507-4931-f9bd-97f7959f4aed"
      },
      "source": [
        "print(df.ward.value_counts())"
      ],
      "execution_count": null,
      "outputs": [
        {
          "output_type": "stream",
          "text": [
            "Igosi               307\n",
            "Imalinyi            252\n",
            "Siha Kati           232\n",
            "Mdandu              231\n",
            "Nduruma             217\n",
            "                   ... \n",
            "Mwanga Kaskazini      1\n",
            "Sungwisi              1\n",
            "Igogo                 1\n",
            "Mawenzi               1\n",
            "Kirongo               1\n",
            "Name: ward, Length: 2092, dtype: int64\n"
          ],
          "name": "stdout"
        }
      ]
    },
    {
      "cell_type": "code",
      "metadata": {
        "id": "fAA0GPeJEROa"
      },
      "source": [
        "#region, lga and ward is string values and all are related referring to the same thing, \n",
        "#georaphical location of the wells. They maybe correlated with each other. We will drop one of them.\n",
        "df = df.drop([ 'ward'], axis=1)"
      ],
      "execution_count": null,
      "outputs": []
    },
    {
      "cell_type": "markdown",
      "metadata": {
        "id": "7nWyKx1pQLGA"
      },
      "source": [
        "###Recorded_by"
      ]
    },
    {
      "cell_type": "code",
      "metadata": {
        "colab": {
          "base_uri": "https://localhost:8080/"
        },
        "id": "eJtsAmhiRMCO",
        "outputId": "54da30a5-49f8-4e7e-c31b-35408b9f7862"
      },
      "source": [
        "df.recorded_by.value_counts()"
      ],
      "execution_count": null,
      "outputs": [
        {
          "output_type": "execute_result",
          "data": {
            "text/plain": [
              "GeoData Consultants Ltd    59400\n",
              "Name: recorded_by, dtype: int64"
            ]
          },
          "metadata": {
            "tags": []
          },
          "execution_count": 159
        }
      ]
    },
    {
      "cell_type": "code",
      "metadata": {
        "id": "rbOlXbTORNSu"
      },
      "source": [
        "#all the recorded by the same company, must be dropped.\n",
        "df = df.drop('recorded_by', axis=1)"
      ],
      "execution_count": null,
      "outputs": []
    },
    {
      "cell_type": "markdown",
      "metadata": {
        "id": "UxKPaQsWgsR6"
      },
      "source": [
        "###extraction_type, extraction_type_group and extraction_type_class"
      ]
    },
    {
      "cell_type": "code",
      "metadata": {
        "colab": {
          "base_uri": "https://localhost:8080/"
        },
        "id": "T1R2C-rmRhWE",
        "outputId": "957f1e74-218e-471c-e81c-9194b405f07f"
      },
      "source": [
        "# extraction_type, extraction_type_group and extraction_type_class are the same data.\n",
        "# Two of them must be dropped.\n",
        "print(df.groupby(['extraction_type_group', 'extraction_type','extraction_type_class']).size())"
      ],
      "execution_count": null,
      "outputs": [
        {
          "output_type": "stream",
          "text": [
            "extraction_type_group  extraction_type            extraction_type_class\n",
            "afridev                afridev                    handpump                  1770\n",
            "gravity                gravity                    gravity                  26780\n",
            "india mark ii          india mark ii              handpump                  2400\n",
            "india mark iii         india mark iii             handpump                    98\n",
            "mono                   mono                       motorpump                 2865\n",
            "nira/tanira            nira/tanira                handpump                  8154\n",
            "other                  other                      other                     6430\n",
            "other handpump         other - mkulima/shinyanga  handpump                     2\n",
            "                       other - play pump          handpump                    85\n",
            "                       other - swn 81             handpump                   229\n",
            "                       walimi                     handpump                    48\n",
            "other motorpump        cemo                       motorpump                   90\n",
            "                       climax                     motorpump                   32\n",
            "rope pump              other - rope pump          rope pump                  451\n",
            "submersible            ksb                        submersible               1415\n",
            "                       submersible                submersible               4764\n",
            "swn 80                 swn 80                     handpump                  3670\n",
            "wind-powered           windmill                   wind-powered               117\n",
            "dtype: int64\n"
          ],
          "name": "stdout"
        }
      ]
    },
    {
      "cell_type": "code",
      "metadata": {
        "id": "z6EM6wiPgJrC"
      },
      "source": [
        "df = df.drop(['extraction_type', 'extraction_type_group'], axis=1)"
      ],
      "execution_count": null,
      "outputs": []
    },
    {
      "cell_type": "markdown",
      "metadata": {
        "id": "KSXn_CrchCJg"
      },
      "source": [
        "###management, management_group and scheme_management"
      ]
    },
    {
      "cell_type": "code",
      "metadata": {
        "colab": {
          "base_uri": "https://localhost:8080/"
        },
        "id": "gDBrQt8iAO1Q",
        "outputId": "a73c1773-793c-481a-ad31-be6965934db5"
      },
      "source": [
        "#management, management_group and scheme_management can be same.\n",
        "df.management.value_counts()"
      ],
      "execution_count": null,
      "outputs": [
        {
          "output_type": "execute_result",
          "data": {
            "text/plain": [
              "vwc                 40507\n",
              "wug                  6515\n",
              "water board          2933\n",
              "wua                  2535\n",
              "private operator     1971\n",
              "parastatal           1768\n",
              "water authority       904\n",
              "other                 844\n",
              "company               685\n",
              "unknown               561\n",
              "other - school         99\n",
              "trust                  78\n",
              "Name: management, dtype: int64"
            ]
          },
          "metadata": {
            "tags": []
          },
          "execution_count": 163
        }
      ]
    },
    {
      "cell_type": "code",
      "metadata": {
        "colab": {
          "base_uri": "https://localhost:8080/"
        },
        "id": "X1FBm-mnAlo2",
        "outputId": "13c97c03-12bc-4950-b441-6fe92ac79616"
      },
      "source": [
        "df.scheme_management.value_counts()"
      ],
      "execution_count": null,
      "outputs": [
        {
          "output_type": "execute_result",
          "data": {
            "text/plain": [
              "VWC                 36793\n",
              "WUG                  5206\n",
              "Water authority      3153\n",
              "WUA                  2883\n",
              "Water Board          2748\n",
              "Parastatal           1680\n",
              "Private operator     1063\n",
              "Company              1061\n",
              "Other                 766\n",
              "SWC                    97\n",
              "Trust                  72\n",
              "None                    1\n",
              "Name: scheme_management, dtype: int64"
            ]
          },
          "metadata": {
            "tags": []
          },
          "execution_count": 164
        }
      ]
    },
    {
      "cell_type": "code",
      "metadata": {
        "colab": {
          "base_uri": "https://localhost:8080/"
        },
        "id": "V5cu9_62Cltt",
        "outputId": "52c9bfb5-07b5-4c70-8b50-e921c2444b60"
      },
      "source": [
        "df.management_group.value_counts()"
      ],
      "execution_count": null,
      "outputs": [
        {
          "output_type": "execute_result",
          "data": {
            "text/plain": [
              "user-group    52490\n",
              "commercial     3638\n",
              "parastatal     1768\n",
              "other           943\n",
              "unknown         561\n",
              "Name: management_group, dtype: int64"
            ]
          },
          "metadata": {
            "tags": []
          },
          "execution_count": 165
        }
      ]
    },
    {
      "cell_type": "code",
      "metadata": {
        "id": "mybJ_nEdArQv"
      },
      "source": [
        "#looks like same thing i will drop two.\n",
        "#not exactly understand what iis management_group's user-group but most of the values have this value,\n",
        "#i will drop that one."
      ],
      "execution_count": null,
      "outputs": []
    },
    {
      "cell_type": "code",
      "metadata": {
        "id": "nLd9IjfIxv0s"
      },
      "source": [
        "df = df.drop(['management_group','management'], axis=1)"
      ],
      "execution_count": null,
      "outputs": []
    },
    {
      "cell_type": "markdown",
      "metadata": {
        "id": "BfFMMm_lgaZN"
      },
      "source": [
        "###Payment - Payment Value"
      ]
    },
    {
      "cell_type": "code",
      "metadata": {
        "colab": {
          "base_uri": "https://localhost:8080/"
        },
        "id": "Akmo7_PcDPVi",
        "outputId": "265a158b-7e41-4664-ebfc-137ad80fa63b"
      },
      "source": [
        "#payment and payment_value can also be same or similar.\n",
        "print(df.groupby(['payment','payment_type']).size())"
      ],
      "execution_count": null,
      "outputs": [
        {
          "output_type": "stream",
          "text": [
            "payment                payment_type\n",
            "never pay              never pay       25348\n",
            "other                  other            1054\n",
            "pay annually           annually         3642\n",
            "pay monthly            monthly          8300\n",
            "pay per bucket         per bucket       8985\n",
            "pay when scheme fails  on failure       3914\n",
            "unknown                unknown          8157\n",
            "dtype: int64\n"
          ],
          "name": "stdout"
        }
      ]
    },
    {
      "cell_type": "code",
      "metadata": {
        "id": "9RIXndXgDeAV"
      },
      "source": [
        "#payment and payment_value, they are exact match, one will drop.\n",
        "df = df.drop('payment', axis=1)"
      ],
      "execution_count": null,
      "outputs": []
    },
    {
      "cell_type": "markdown",
      "metadata": {
        "id": "0j1foiTkhXtK"
      },
      "source": [
        "###water_quality and quality_group"
      ]
    },
    {
      "cell_type": "code",
      "metadata": {
        "colab": {
          "base_uri": "https://localhost:8080/"
        },
        "id": "ycWhtJauhbwC",
        "outputId": "c71bee82-25b6-4c34-cf75-db13870e0d12"
      },
      "source": [
        "#water_quality and quality_group can also be same or similar.\n",
        "print(df.groupby(['water_quality','quality_group']).size())"
      ],
      "execution_count": null,
      "outputs": [
        {
          "output_type": "stream",
          "text": [
            "water_quality       quality_group\n",
            "coloured            colored            490\n",
            "fluoride            fluoride           200\n",
            "fluoride abandoned  fluoride            17\n",
            "milky               milky              804\n",
            "salty               salty             4856\n",
            "salty abandoned     salty              339\n",
            "soft                good             50818\n",
            "unknown             unknown           1876\n",
            "dtype: int64\n"
          ],
          "name": "stdout"
        }
      ]
    },
    {
      "cell_type": "code",
      "metadata": {
        "id": "3Cy-cBj6D0kO"
      },
      "source": [
        "#water_quality and quality_group, they are representing the same thing, one will drop.\n",
        "df = df.drop('quality_group', axis=1)"
      ],
      "execution_count": null,
      "outputs": []
    },
    {
      "cell_type": "markdown",
      "metadata": {
        "id": "DG_uukjzhlV_"
      },
      "source": [
        "###quantity and quantity_group"
      ]
    },
    {
      "cell_type": "code",
      "metadata": {
        "colab": {
          "base_uri": "https://localhost:8080/"
        },
        "id": "-Zx-BAnRhpjs",
        "outputId": "9bef264f-142a-4d4b-eca3-c4880cf042fb"
      },
      "source": [
        "#quantity and quantity_group can also be same or similar.\n",
        "print(df.groupby(['quantity','quantity_group']).size())"
      ],
      "execution_count": null,
      "outputs": [
        {
          "output_type": "stream",
          "text": [
            "quantity      quantity_group\n",
            "dry           dry                6246\n",
            "enough        enough            33186\n",
            "insufficient  insufficient      15129\n",
            "seasonal      seasonal           4050\n",
            "unknown       unknown             789\n",
            "dtype: int64\n"
          ],
          "name": "stdout"
        }
      ]
    },
    {
      "cell_type": "code",
      "metadata": {
        "id": "bIkE3urlEC-F"
      },
      "source": [
        "#quantity and quantity_group, they are exact match, one will drop.\n",
        "df = df.drop('quantity_group', axis=1)"
      ],
      "execution_count": null,
      "outputs": []
    },
    {
      "cell_type": "markdown",
      "metadata": {
        "id": "rDz8INIMhwN3"
      },
      "source": [
        "###Source, source_type and source_class"
      ]
    },
    {
      "cell_type": "code",
      "metadata": {
        "id": "ScKaCDLlEC70"
      },
      "source": [
        "#Source, source_type and source_class can be the same."
      ],
      "execution_count": null,
      "outputs": []
    },
    {
      "cell_type": "code",
      "metadata": {
        "colab": {
          "base_uri": "https://localhost:8080/"
        },
        "id": "Fj_zcXFThzLe",
        "outputId": "b8cee511-d55c-4dd7-8cc8-a58ae88eecd8"
      },
      "source": [
        "print(df.groupby(['source','source_type','source_class']).size())"
      ],
      "execution_count": null,
      "outputs": [
        {
          "output_type": "stream",
          "text": [
            "source                source_type           source_class\n",
            "dam                   dam                   surface           656\n",
            "hand dtw              borehole              groundwater       874\n",
            "lake                  river/lake            surface           765\n",
            "machine dbh           borehole              groundwater     11075\n",
            "other                 other                 unknown           212\n",
            "rainwater harvesting  rainwater harvesting  surface          2295\n",
            "river                 river/lake            surface          9612\n",
            "shallow well          shallow well          groundwater     16824\n",
            "spring                spring                groundwater     17021\n",
            "unknown               other                 unknown            66\n",
            "dtype: int64\n"
          ],
          "name": "stdout"
        }
      ]
    },
    {
      "cell_type": "code",
      "metadata": {
        "colab": {
          "base_uri": "https://localhost:8080/"
        },
        "id": "ZX_Ll7G6EC5l",
        "outputId": "d906cde8-412c-47dd-f9c2-f6be6367df16"
      },
      "source": [
        "df.source.value_counts()"
      ],
      "execution_count": null,
      "outputs": [
        {
          "output_type": "execute_result",
          "data": {
            "text/plain": [
              "spring                  17021\n",
              "shallow well            16824\n",
              "machine dbh             11075\n",
              "river                    9612\n",
              "rainwater harvesting     2295\n",
              "hand dtw                  874\n",
              "lake                      765\n",
              "dam                       656\n",
              "other                     212\n",
              "unknown                    66\n",
              "Name: source, dtype: int64"
            ]
          },
          "metadata": {
            "tags": []
          },
          "execution_count": 176
        }
      ]
    },
    {
      "cell_type": "code",
      "metadata": {
        "colab": {
          "base_uri": "https://localhost:8080/"
        },
        "id": "lNl5TZ40Evgs",
        "outputId": "7649c0d5-d784-46f0-f4f2-d6b7c920040c"
      },
      "source": [
        "df.source_class.value_counts()"
      ],
      "execution_count": null,
      "outputs": [
        {
          "output_type": "execute_result",
          "data": {
            "text/plain": [
              "groundwater    45794\n",
              "surface        13328\n",
              "unknown          278\n",
              "Name: source_class, dtype: int64"
            ]
          },
          "metadata": {
            "tags": []
          },
          "execution_count": 177
        }
      ]
    },
    {
      "cell_type": "code",
      "metadata": {
        "colab": {
          "base_uri": "https://localhost:8080/"
        },
        "id": "kAG5lGOUEvfC",
        "outputId": "19f92ad8-fa2d-420f-fe09-783f583cf56c"
      },
      "source": [
        "df.source_type.value_counts()"
      ],
      "execution_count": null,
      "outputs": [
        {
          "output_type": "execute_result",
          "data": {
            "text/plain": [
              "spring                  17021\n",
              "shallow well            16824\n",
              "borehole                11949\n",
              "river/lake              10377\n",
              "rainwater harvesting     2295\n",
              "dam                       656\n",
              "other                     278\n",
              "Name: source_type, dtype: int64"
            ]
          },
          "metadata": {
            "tags": []
          },
          "execution_count": 178
        }
      ]
    },
    {
      "cell_type": "code",
      "metadata": {
        "id": "Fh3PoZmsEvdG"
      },
      "source": [
        "#Source_class is different then others, it will stay.\n",
        "#source and source_type are the same thing, so one will drop.\n",
        "df = df.drop('source', axis=1)"
      ],
      "execution_count": null,
      "outputs": []
    },
    {
      "cell_type": "markdown",
      "metadata": {
        "id": "Ta800R4vtJ25"
      },
      "source": [
        "###Waterpoint_type and waterpoint_type_group"
      ]
    },
    {
      "cell_type": "code",
      "metadata": {
        "colab": {
          "base_uri": "https://localhost:8080/"
        },
        "id": "NknOo_5GtPOo",
        "outputId": "a4c79f40-797d-49d0-faa2-ac416e37efc5"
      },
      "source": [
        "print(df.groupby(['waterpoint_type','waterpoint_type_group']).size())\n",
        "#waterpoint_type and waterpoint_type_group are representing the same thing. one should drop."
      ],
      "execution_count": null,
      "outputs": [
        {
          "output_type": "stream",
          "text": [
            "waterpoint_type              waterpoint_type_group\n",
            "cattle trough                cattle trough              116\n",
            "communal standpipe           communal standpipe       28522\n",
            "communal standpipe multiple  communal standpipe        6103\n",
            "dam                          dam                          7\n",
            "hand pump                    hand pump                17488\n",
            "improved spring              improved spring            784\n",
            "other                        other                     6380\n",
            "dtype: int64\n"
          ],
          "name": "stdout"
        }
      ]
    },
    {
      "cell_type": "code",
      "metadata": {
        "id": "mk9UiqiWtdYt"
      },
      "source": [
        "df = df.drop('waterpoint_type_group', axis=1)"
      ],
      "execution_count": null,
      "outputs": []
    },
    {
      "cell_type": "markdown",
      "metadata": {
        "id": "h5ROSfF1iF9m"
      },
      "source": [
        "###Rest of the null values and others"
      ]
    },
    {
      "cell_type": "code",
      "metadata": {
        "colab": {
          "base_uri": "https://localhost:8080/"
        },
        "id": "9nB1LJ6LEvbB",
        "outputId": "e0c2b605-7424-49bc-953d-47571e5fcf93"
      },
      "source": [
        "df.apply(lambda x: sum(x.isnull()))"
      ],
      "execution_count": null,
      "outputs": [
        {
          "output_type": "execute_result",
          "data": {
            "text/plain": [
              "id                           0\n",
              "amount_tsh                   0\n",
              "date_recorded                0\n",
              "funder                    3635\n",
              "gps_height                   0\n",
              "installer                 3655\n",
              "basin                        0\n",
              "subvillage                 371\n",
              "region                       0\n",
              "region_code                  0\n",
              "district_code                0\n",
              "lga                          0\n",
              "population                   0\n",
              "public_meeting            3334\n",
              "scheme_management         3877\n",
              "scheme_name              28166\n",
              "permit                    3056\n",
              "construction_year            0\n",
              "extraction_type_class        0\n",
              "payment_type                 0\n",
              "water_quality                0\n",
              "quantity                     0\n",
              "source_type                  0\n",
              "source_class                 0\n",
              "waterpoint_type              0\n",
              "status_group                 0\n",
              "dtype: int64"
            ]
          },
          "metadata": {
            "tags": []
          },
          "execution_count": 182
        }
      ]
    },
    {
      "cell_type": "code",
      "metadata": {
        "id": "Wipc7DH5ai9H"
      },
      "source": [
        "#funder, installer, subvillage, public_meeting, scheme_management, scheme_name, permit have some null values,\n",
        "#we have to deal with them."
      ],
      "execution_count": null,
      "outputs": []
    },
    {
      "cell_type": "code",
      "metadata": {
        "colab": {
          "base_uri": "https://localhost:8080/"
        },
        "id": "_gBNVst1br9c",
        "outputId": "163880d5-cc7c-47c6-9ad9-03e3a3a5e5fe"
      },
      "source": [
        "#sns.countplot(x='subvillage',data=df) that's not working.\n",
        "print(df.subvillage.value_counts())"
      ],
      "execution_count": null,
      "outputs": [
        {
          "output_type": "stream",
          "text": [
            "Madukani        508\n",
            "Shuleni         506\n",
            "Majengo         502\n",
            "Kati            373\n",
            "Mtakuja         262\n",
            "               ... \n",
            "Isageng'E         1\n",
            "Majego            1\n",
            "Nyangae           1\n",
            "Geer              1\n",
            "Junjuhuiseke      1\n",
            "Name: subvillage, Length: 19287, dtype: int64\n"
          ],
          "name": "stdout"
        }
      ]
    },
    {
      "cell_type": "code",
      "metadata": {
        "id": "S189D-OLdSLG"
      },
      "source": [
        "#Length: 19287, that much different village can not be effective on the model.\n",
        "df = df.drop('subvillage', axis=1)"
      ],
      "execution_count": null,
      "outputs": []
    },
    {
      "cell_type": "code",
      "metadata": {
        "colab": {
          "base_uri": "https://localhost:8080/"
        },
        "id": "uMx6khd9iZtB",
        "outputId": "7591f47c-1cc7-44be-bafa-1b95221d0e9b"
      },
      "source": [
        "df.groupby(['installer','funder','status_group']).size()"
      ],
      "execution_count": null,
      "outputs": [
        {
          "output_type": "execute_result",
          "data": {
            "text/plain": [
              "installer       funder                  status_group           \n",
              "-               Government Of Tanzania  functional                   1\n",
              "                                        non functional               1\n",
              "                Kalebejo Parish         functional                   1\n",
              "0               0                       functional                 445\n",
              "                                        functional needs repair      3\n",
              "                                                                  ... \n",
              "wizara ya maji  Serikali                functional                   2\n",
              "world           World Bank              functional needs repair      1\n",
              "                                        non functional               3\n",
              "world banks     World Bank              non functional               1\n",
              "world vision    World Vision            functional                   1\n",
              "Length: 5188, dtype: int64"
            ]
          },
          "metadata": {
            "tags": []
          },
          "execution_count": 186
        }
      ]
    },
    {
      "cell_type": "code",
      "metadata": {
        "id": "RiVnI0LBil2r"
      },
      "source": [
        "#filling empty funder rows with \"unknown\"\n",
        "df.funder = df.funder.fillna('unknown')\n",
        "#installer and funder are representing same thing, looks like it.\n",
        "#so should drop one.\n",
        "df = df.drop('installer', axis=1)"
      ],
      "execution_count": null,
      "outputs": []
    },
    {
      "cell_type": "code",
      "metadata": {
        "id": "yHC941vBjdWf"
      },
      "source": [
        "#Permit and public meeting\n",
        "#can be dropped or filled with other.\n",
        "#filling with other allows us to use our valuable data so we wont drop them.\n",
        "df.permit = df.permit.fillna('other')\n",
        "df.public_meeting  = df.public_meeting .fillna('other')"
      ],
      "execution_count": null,
      "outputs": []
    },
    {
      "cell_type": "code",
      "metadata": {
        "colab": {
          "base_uri": "https://localhost:8080/"
        },
        "id": "ZyaKjU0-j-1F",
        "outputId": "bdef74c3-d4d7-4b5d-bca8-7ff848341168"
      },
      "source": [
        "df.apply(lambda x: sum(x.isnull()))"
      ],
      "execution_count": null,
      "outputs": [
        {
          "output_type": "execute_result",
          "data": {
            "text/plain": [
              "id                           0\n",
              "amount_tsh                   0\n",
              "date_recorded                0\n",
              "funder                       0\n",
              "gps_height                   0\n",
              "basin                        0\n",
              "region                       0\n",
              "region_code                  0\n",
              "district_code                0\n",
              "lga                          0\n",
              "population                   0\n",
              "public_meeting               0\n",
              "scheme_management         3877\n",
              "scheme_name              28166\n",
              "permit                       0\n",
              "construction_year            0\n",
              "extraction_type_class        0\n",
              "payment_type                 0\n",
              "water_quality                0\n",
              "quantity                     0\n",
              "source_type                  0\n",
              "source_class                 0\n",
              "waterpoint_type              0\n",
              "status_group                 0\n",
              "dtype: int64"
            ]
          },
          "metadata": {
            "tags": []
          },
          "execution_count": 189
        }
      ]
    },
    {
      "cell_type": "markdown",
      "metadata": {
        "id": "dqCr49nGF4mL"
      },
      "source": [
        "###scheme_management and scheme_name"
      ]
    },
    {
      "cell_type": "code",
      "metadata": {
        "colab": {
          "base_uri": "https://localhost:8080/"
        },
        "id": "Mp8LRzncIC9M",
        "outputId": "8270229a-3c3c-4c3d-a10c-799891f507b6"
      },
      "source": [
        "df.groupby(['scheme_management','scheme_name','status_group']).size()"
      ],
      "execution_count": null,
      "outputs": [
        {
          "output_type": "execute_result",
          "data": {
            "text/plain": [
              "scheme_management  scheme_name               status_group           \n",
              "Company            BFFS                      non functional               1\n",
              "                   Bagamoyo Wate             functional                  47\n",
              "                                             non functional              13\n",
              "                   Bagamoyo wate             functional                 150\n",
              "                                             non functional              60\n",
              "                                                                       ... \n",
              "Water authority    no scheme                 functional                   5\n",
              "                                             functional needs repair      1\n",
              "                                             non functional               3\n",
              "                   pump                      non functional               2\n",
              "                   water supply at Kalebejo  non functional               1\n",
              "Length: 4630, dtype: int64"
            ]
          },
          "metadata": {
            "tags": []
          },
          "execution_count": 190
        }
      ]
    },
    {
      "cell_type": "code",
      "metadata": {
        "colab": {
          "base_uri": "https://localhost:8080/"
        },
        "id": "VE93nBIJRs2i",
        "outputId": "1fc627bd-b4ec-4ba1-fb84-346ee38ab05a"
      },
      "source": [
        "df.scheme_name.value_counts()"
      ],
      "execution_count": null,
      "outputs": [
        {
          "output_type": "execute_result",
          "data": {
            "text/plain": [
              "K                           682\n",
              "None                        644\n",
              "Borehole                    546\n",
              "Chalinze wate               405\n",
              "M                           400\n",
              "                           ... \n",
              "Namtibwili                    1\n",
              "kisanga dam                   1\n",
              "Upper River                   1\n",
              "Mese line                     1\n",
              "Nyakabila  spring source      1\n",
              "Name: scheme_name, Length: 2696, dtype: int64"
            ]
          },
          "metadata": {
            "tags": []
          },
          "execution_count": 191
        }
      ]
    },
    {
      "cell_type": "code",
      "metadata": {
        "colab": {
          "base_uri": "https://localhost:8080/"
        },
        "id": "JUe3cbj_R_SS",
        "outputId": "d9b812e1-f2f8-4b9c-d94c-76367d4b0855"
      },
      "source": [
        "df.scheme_management.value_counts()"
      ],
      "execution_count": null,
      "outputs": [
        {
          "output_type": "execute_result",
          "data": {
            "text/plain": [
              "VWC                 36793\n",
              "WUG                  5206\n",
              "Water authority      3153\n",
              "WUA                  2883\n",
              "Water Board          2748\n",
              "Parastatal           1680\n",
              "Private operator     1063\n",
              "Company              1061\n",
              "Other                 766\n",
              "SWC                    97\n",
              "Trust                  72\n",
              "None                    1\n",
              "Name: scheme_management, dtype: int64"
            ]
          },
          "metadata": {
            "tags": []
          },
          "execution_count": 192
        }
      ]
    },
    {
      "cell_type": "code",
      "metadata": {
        "id": "iyfMBtgLnqIK"
      },
      "source": [
        "#scheme_name – Who operates the water point, 2696 different values, so will drop that one, scheme_management looks like a more valuable data.\n",
        "#scheme_management has too much empty variable, but will fill the empty ones with unknown also.\n",
        "df = df.drop('scheme_name',axis=1)\n",
        "df.scheme_management = df.scheme_management.fillna('unknown')"
      ],
      "execution_count": null,
      "outputs": []
    },
    {
      "cell_type": "code",
      "metadata": {
        "id": "jQ4AHaOunqGM"
      },
      "source": [
        "#there are no null values."
      ],
      "execution_count": null,
      "outputs": []
    },
    {
      "cell_type": "markdown",
      "metadata": {
        "id": "7fyYnItmoNge"
      },
      "source": [
        "###Construction_year is string"
      ]
    },
    {
      "cell_type": "code",
      "metadata": {
        "id": "FRHztGlsSRqD"
      },
      "source": [
        "#Construction_year is string value;\n",
        "#will create a new column called \"well_age\" \n",
        "#well_age = construction_year - date_recorded\n",
        "#that will create a logical data for me to use as the age of the well."
      ],
      "execution_count": null,
      "outputs": []
    },
    {
      "cell_type": "code",
      "metadata": {
        "colab": {
          "base_uri": "https://localhost:8080/"
        },
        "id": "Ji4v2OjsnqBN",
        "outputId": "b1831735-3e8b-4263-9f0f-b2fcc8a10a4e"
      },
      "source": [
        "df.construction_year.value_counts()"
      ],
      "execution_count": null,
      "outputs": [
        {
          "output_type": "execute_result",
          "data": {
            "text/plain": [
              "0       20709\n",
              "2010     2645\n",
              "2008     2613\n",
              "2009     2533\n",
              "2000     2091\n",
              "2007     1587\n",
              "2006     1471\n",
              "2003     1286\n",
              "2011     1256\n",
              "2004     1123\n",
              "2012     1084\n",
              "2002     1075\n",
              "1978     1037\n",
              "1995     1014\n",
              "2005     1011\n",
              "1999      979\n",
              "1998      966\n",
              "1990      954\n",
              "1985      945\n",
              "1980      811\n",
              "1996      811\n",
              "1984      779\n",
              "1982      744\n",
              "1994      738\n",
              "1972      708\n",
              "1974      676\n",
              "1997      644\n",
              "1992      640\n",
              "1993      608\n",
              "2001      540\n",
              "1988      521\n",
              "1983      488\n",
              "1975      437\n",
              "1986      434\n",
              "1976      414\n",
              "1970      411\n",
              "1991      324\n",
              "1989      316\n",
              "1987      302\n",
              "1981      238\n",
              "1977      202\n",
              "1979      192\n",
              "1973      184\n",
              "2013      176\n",
              "1971      145\n",
              "1960      102\n",
              "1967       88\n",
              "1963       85\n",
              "1968       77\n",
              "1969       59\n",
              "1964       40\n",
              "1962       30\n",
              "1961       21\n",
              "1965       19\n",
              "1966       17\n",
              "Name: construction_year, dtype: int64"
            ]
          },
          "metadata": {
            "tags": []
          },
          "execution_count": 196
        }
      ]
    },
    {
      "cell_type": "code",
      "metadata": {
        "colab": {
          "base_uri": "https://localhost:8080/"
        },
        "id": "LoHlAz21npUr",
        "outputId": "4c11374b-060b-4d0a-952c-eb28a9877d1c"
      },
      "source": [
        "df.isnull().sum()\n",
        "df['date_recorded'] = pd.to_datetime(df['date_recorded'])\n",
        "df.date_recorded.head(5)\n",
        "print(df.date_recorded.dt.year.head(5))\n",
        "print(df.construction_year.head(5))\n",
        "df['well_age'] = df.date_recorded.dt.year - df.construction_year\n",
        "df = df.drop(['construction_year','date_recorded'], axis=1)\n",
        "df.well_age.head(5)"
      ],
      "execution_count": null,
      "outputs": [
        {
          "output_type": "stream",
          "text": [
            "0    2011\n",
            "1    2013\n",
            "2    2013\n",
            "3    2013\n",
            "4    2011\n",
            "Name: date_recorded, dtype: int64\n",
            "0    1999\n",
            "1    2010\n",
            "2    2009\n",
            "3    1986\n",
            "4       0\n",
            "Name: construction_year, dtype: int64\n"
          ],
          "name": "stdout"
        },
        {
          "output_type": "execute_result",
          "data": {
            "text/plain": [
              "0      12\n",
              "1       3\n",
              "2       4\n",
              "3      27\n",
              "4    2011\n",
              "Name: well_age, dtype: int64"
            ]
          },
          "metadata": {
            "tags": []
          },
          "execution_count": 197
        }
      ]
    },
    {
      "cell_type": "markdown",
      "metadata": {
        "id": "6rEdtgpixVbJ"
      },
      "source": [
        "###Last modeifications and save"
      ]
    },
    {
      "cell_type": "code",
      "metadata": {
        "colab": {
          "base_uri": "https://localhost:8080/"
        },
        "id": "-HJMq2-tEvZD",
        "outputId": "6e1ec407-0eb4-4d15-93b4-23b5e6b1f27d"
      },
      "source": [
        "df.info()"
      ],
      "execution_count": null,
      "outputs": [
        {
          "output_type": "stream",
          "text": [
            "<class 'pandas.core.frame.DataFrame'>\n",
            "Int64Index: 59400 entries, 0 to 59399\n",
            "Data columns (total 22 columns):\n",
            " #   Column                 Non-Null Count  Dtype  \n",
            "---  ------                 --------------  -----  \n",
            " 0   id                     59400 non-null  int64  \n",
            " 1   amount_tsh             59400 non-null  float64\n",
            " 2   funder                 59400 non-null  object \n",
            " 3   gps_height             59400 non-null  int64  \n",
            " 4   basin                  59400 non-null  object \n",
            " 5   region                 59400 non-null  object \n",
            " 6   region_code            59400 non-null  int64  \n",
            " 7   district_code          59400 non-null  int64  \n",
            " 8   lga                    59400 non-null  object \n",
            " 9   population             59400 non-null  int64  \n",
            " 10  public_meeting         59400 non-null  object \n",
            " 11  scheme_management      59400 non-null  object \n",
            " 12  permit                 59400 non-null  object \n",
            " 13  extraction_type_class  59400 non-null  object \n",
            " 14  payment_type           59400 non-null  object \n",
            " 15  water_quality          59400 non-null  object \n",
            " 16  quantity               59400 non-null  object \n",
            " 17  source_type            59400 non-null  object \n",
            " 18  source_class           59400 non-null  object \n",
            " 19  waterpoint_type        59400 non-null  object \n",
            " 20  status_group           59400 non-null  object \n",
            " 21  well_age               59400 non-null  int64  \n",
            "dtypes: float64(1), int64(6), object(15)\n",
            "memory usage: 10.4+ MB\n"
          ],
          "name": "stdout"
        }
      ]
    },
    {
      "cell_type": "code",
      "metadata": {
        "id": "V6kg3y2oEvW5"
      },
      "source": [
        "#in case there is random capitalization\n",
        "\n",
        "df.funder = df.funder.str.lower()\n",
        "df.basin = df.basin.str.lower()\n",
        "df.extraction_type_class=df.extraction_type_class.str.lower()\n",
        "df.scheme_management = df.scheme_management.str.lower()\n",
        "df.water_quality = df.water_quality.str.lower()\n",
        "df.quantity = df.quantity.str.lower()\n",
        "df.source_type = df.source_type.str.lower()\n",
        "df.source_class = df.source_class.str.lower()\n",
        "df.waterpoint_type = df.waterpoint_type.str.lower()"
      ],
      "execution_count": null,
      "outputs": []
    },
    {
      "cell_type": "code",
      "metadata": {
        "colab": {
          "base_uri": "https://localhost:8080/",
          "height": 326
        },
        "id": "VMiC49ENEvUu",
        "outputId": "2bd9a4f5-ee8a-49ed-a628-aeab74409148"
      },
      "source": [
        "df.head()"
      ],
      "execution_count": null,
      "outputs": [
        {
          "output_type": "execute_result",
          "data": {
            "text/html": [
              "<div>\n",
              "<style scoped>\n",
              "    .dataframe tbody tr th:only-of-type {\n",
              "        vertical-align: middle;\n",
              "    }\n",
              "\n",
              "    .dataframe tbody tr th {\n",
              "        vertical-align: top;\n",
              "    }\n",
              "\n",
              "    .dataframe thead th {\n",
              "        text-align: right;\n",
              "    }\n",
              "</style>\n",
              "<table border=\"1\" class=\"dataframe\">\n",
              "  <thead>\n",
              "    <tr style=\"text-align: right;\">\n",
              "      <th></th>\n",
              "      <th>id</th>\n",
              "      <th>amount_tsh</th>\n",
              "      <th>funder</th>\n",
              "      <th>gps_height</th>\n",
              "      <th>basin</th>\n",
              "      <th>region</th>\n",
              "      <th>region_code</th>\n",
              "      <th>district_code</th>\n",
              "      <th>lga</th>\n",
              "      <th>population</th>\n",
              "      <th>public_meeting</th>\n",
              "      <th>scheme_management</th>\n",
              "      <th>permit</th>\n",
              "      <th>extraction_type_class</th>\n",
              "      <th>payment_type</th>\n",
              "      <th>water_quality</th>\n",
              "      <th>quantity</th>\n",
              "      <th>source_type</th>\n",
              "      <th>source_class</th>\n",
              "      <th>waterpoint_type</th>\n",
              "      <th>status_group</th>\n",
              "      <th>well_age</th>\n",
              "    </tr>\n",
              "  </thead>\n",
              "  <tbody>\n",
              "    <tr>\n",
              "      <th>0</th>\n",
              "      <td>69572</td>\n",
              "      <td>6000.0</td>\n",
              "      <td>roman</td>\n",
              "      <td>1390</td>\n",
              "      <td>lake nyasa</td>\n",
              "      <td>Iringa</td>\n",
              "      <td>11</td>\n",
              "      <td>5</td>\n",
              "      <td>Ludewa</td>\n",
              "      <td>109</td>\n",
              "      <td>True</td>\n",
              "      <td>vwc</td>\n",
              "      <td>False</td>\n",
              "      <td>gravity</td>\n",
              "      <td>annually</td>\n",
              "      <td>soft</td>\n",
              "      <td>enough</td>\n",
              "      <td>spring</td>\n",
              "      <td>groundwater</td>\n",
              "      <td>communal standpipe</td>\n",
              "      <td>functional</td>\n",
              "      <td>12</td>\n",
              "    </tr>\n",
              "    <tr>\n",
              "      <th>1</th>\n",
              "      <td>8776</td>\n",
              "      <td>0.0</td>\n",
              "      <td>grumeti</td>\n",
              "      <td>1399</td>\n",
              "      <td>lake victoria</td>\n",
              "      <td>Mara</td>\n",
              "      <td>20</td>\n",
              "      <td>2</td>\n",
              "      <td>Serengeti</td>\n",
              "      <td>280</td>\n",
              "      <td>other</td>\n",
              "      <td>other</td>\n",
              "      <td>True</td>\n",
              "      <td>gravity</td>\n",
              "      <td>never pay</td>\n",
              "      <td>soft</td>\n",
              "      <td>insufficient</td>\n",
              "      <td>rainwater harvesting</td>\n",
              "      <td>surface</td>\n",
              "      <td>communal standpipe</td>\n",
              "      <td>functional</td>\n",
              "      <td>3</td>\n",
              "    </tr>\n",
              "    <tr>\n",
              "      <th>2</th>\n",
              "      <td>34310</td>\n",
              "      <td>25.0</td>\n",
              "      <td>lottery club</td>\n",
              "      <td>686</td>\n",
              "      <td>pangani</td>\n",
              "      <td>Manyara</td>\n",
              "      <td>21</td>\n",
              "      <td>4</td>\n",
              "      <td>Simanjiro</td>\n",
              "      <td>250</td>\n",
              "      <td>True</td>\n",
              "      <td>vwc</td>\n",
              "      <td>True</td>\n",
              "      <td>gravity</td>\n",
              "      <td>per bucket</td>\n",
              "      <td>soft</td>\n",
              "      <td>enough</td>\n",
              "      <td>dam</td>\n",
              "      <td>surface</td>\n",
              "      <td>communal standpipe multiple</td>\n",
              "      <td>functional</td>\n",
              "      <td>4</td>\n",
              "    </tr>\n",
              "    <tr>\n",
              "      <th>3</th>\n",
              "      <td>67743</td>\n",
              "      <td>0.0</td>\n",
              "      <td>unicef</td>\n",
              "      <td>263</td>\n",
              "      <td>ruvuma / southern coast</td>\n",
              "      <td>Mtwara</td>\n",
              "      <td>90</td>\n",
              "      <td>63</td>\n",
              "      <td>Nanyumbu</td>\n",
              "      <td>58</td>\n",
              "      <td>True</td>\n",
              "      <td>vwc</td>\n",
              "      <td>True</td>\n",
              "      <td>submersible</td>\n",
              "      <td>never pay</td>\n",
              "      <td>soft</td>\n",
              "      <td>dry</td>\n",
              "      <td>borehole</td>\n",
              "      <td>groundwater</td>\n",
              "      <td>communal standpipe multiple</td>\n",
              "      <td>non functional</td>\n",
              "      <td>27</td>\n",
              "    </tr>\n",
              "    <tr>\n",
              "      <th>4</th>\n",
              "      <td>19728</td>\n",
              "      <td>0.0</td>\n",
              "      <td>action in a</td>\n",
              "      <td>0</td>\n",
              "      <td>lake victoria</td>\n",
              "      <td>Kagera</td>\n",
              "      <td>18</td>\n",
              "      <td>1</td>\n",
              "      <td>Karagwe</td>\n",
              "      <td>0</td>\n",
              "      <td>True</td>\n",
              "      <td>unknown</td>\n",
              "      <td>True</td>\n",
              "      <td>gravity</td>\n",
              "      <td>never pay</td>\n",
              "      <td>soft</td>\n",
              "      <td>seasonal</td>\n",
              "      <td>rainwater harvesting</td>\n",
              "      <td>surface</td>\n",
              "      <td>communal standpipe</td>\n",
              "      <td>functional</td>\n",
              "      <td>2011</td>\n",
              "    </tr>\n",
              "  </tbody>\n",
              "</table>\n",
              "</div>"
            ],
            "text/plain": [
              "      id  amount_tsh  ...    status_group  well_age\n",
              "0  69572      6000.0  ...      functional        12\n",
              "1   8776         0.0  ...      functional         3\n",
              "2  34310        25.0  ...      functional         4\n",
              "3  67743         0.0  ...  non functional        27\n",
              "4  19728         0.0  ...      functional      2011\n",
              "\n",
              "[5 rows x 22 columns]"
            ]
          },
          "metadata": {
            "tags": []
          },
          "execution_count": 200
        }
      ]
    },
    {
      "cell_type": "markdown",
      "metadata": {
        "id": "-eUPuHl8VQMy"
      },
      "source": [
        "###Correlation check between the features"
      ]
    },
    {
      "cell_type": "code",
      "metadata": {
        "id": "2euH4CjvVOcV"
      },
      "source": [
        "#let's check the correleation between our non-string features."
      ],
      "execution_count": null,
      "outputs": []
    },
    {
      "cell_type": "code",
      "metadata": {
        "colab": {
          "base_uri": "https://localhost:8080/",
          "height": 829
        },
        "id": "lh0L4hqrSnWD",
        "outputId": "6223d2af-4932-434f-d3e8-e4b6afcf574c"
      },
      "source": [
        "corr = df.corr()\n",
        "plt.figure(figsize=(14,14))\n",
        "sns.heatmap(corr, cbar=False, square= True, fmt='.2%', annot=True, cmap='Greens')"
      ],
      "execution_count": null,
      "outputs": [
        {
          "output_type": "execute_result",
          "data": {
            "text/plain": [
              "<matplotlib.axes._subplots.AxesSubplot at 0x7f8bbe008b50>"
            ]
          },
          "metadata": {
            "tags": []
          },
          "execution_count": 202
        },
        {
          "output_type": "display_data",
          "data": {
            "image/png": "[encoded data removed]",
            "text/plain": [
              "<Figure size 1008x1008 with 1 Axes>"
            ]
          },
          "metadata": {
            "tags": []
          }
        }
      ]
    },
    {
      "cell_type": "code",
      "metadata": {
        "id": "GNYADqPFVMg1"
      },
      "source": [
        "#as expected there is linear,positive correlation between district_code and region_code\n",
        "#its better to drop one.\n",
        "df = df.drop('district_code',axis=1)"
      ],
      "execution_count": null,
      "outputs": []
    },
    {
      "cell_type": "code",
      "metadata": {
        "id": "T8fDZqXwxUA0"
      },
      "source": [
        "df.to_csv('/content/drive/MyDrive/Dersler/8_IT541_Machine_Learning/project/train_data_for_models.csv', index=False)"
      ],
      "execution_count": null,
      "outputs": []
    },
    {
      "cell_type": "markdown",
      "metadata": {
        "id": "CLvyg6GcupFj"
      },
      "source": [
        "###Same modifications should be also in the test data."
      ]
    },
    {
      "cell_type": "code",
      "metadata": {
        "id": "AQGWKsbTEvSn"
      },
      "source": [
        "df_test = pd.read_csv(\"/content/drive/MyDrive/Dersler/8_IT541_Machine_Learning/project/test_set_values.csv\")"
      ],
      "execution_count": null,
      "outputs": []
    },
    {
      "cell_type": "code",
      "metadata": {
        "colab": {
          "base_uri": "https://localhost:8080/"
        },
        "id": "UIR1P7_9vLr2",
        "outputId": "981d43af-3150-4cad-de3e-d39e8164d770"
      },
      "source": [
        "df_test['date_recorded'] = pd.to_datetime(df_test['date_recorded'])\n",
        "df_test.date_recorded.head(5)\n",
        "print(df_test.date_recorded.dt.year.head(5))\n",
        "print(df_test.construction_year.head(5))\n",
        "df_test['well_age'] = df_test.date_recorded.dt.year - df_test.construction_year\n",
        "df_test = df_test.drop(['construction_year','date_recorded'], axis=1)\n",
        "df_test.well_age.head(5)"
      ],
      "execution_count": null,
      "outputs": [
        {
          "output_type": "stream",
          "text": [
            "0    2013\n",
            "1    2013\n",
            "2    2013\n",
            "3    2013\n",
            "4    2013\n",
            "Name: date_recorded, dtype: int64\n",
            "0    2012\n",
            "1    2000\n",
            "2    2010\n",
            "3    1987\n",
            "4    2000\n",
            "Name: construction_year, dtype: int64\n"
          ],
          "name": "stdout"
        },
        {
          "output_type": "execute_result",
          "data": {
            "text/plain": [
              "0     1\n",
              "1    13\n",
              "2     3\n",
              "3    26\n",
              "4    13\n",
              "Name: well_age, dtype: int64"
            ]
          },
          "metadata": {
            "tags": []
          },
          "execution_count": 206
        }
      ]
    },
    {
      "cell_type": "code",
      "metadata": {
        "colab": {
          "base_uri": "https://localhost:8080/"
        },
        "id": "qZIHjRrPu4PE",
        "outputId": "210ff2a4-e8a0-433d-cd2a-6d42f07dfe96"
      },
      "source": [
        "df_test.columns"
      ],
      "execution_count": null,
      "outputs": [
        {
          "output_type": "execute_result",
          "data": {
            "text/plain": [
              "Index(['id', 'amount_tsh', 'funder', 'gps_height', 'installer', 'longitude',\n",
              "       'latitude', 'wpt_name', 'num_private', 'basin', 'subvillage', 'region',\n",
              "       'region_code', 'district_code', 'lga', 'ward', 'population',\n",
              "       'public_meeting', 'recorded_by', 'scheme_management', 'scheme_name',\n",
              "       'permit', 'extraction_type', 'extraction_type_group',\n",
              "       'extraction_type_class', 'management', 'management_group', 'payment',\n",
              "       'payment_type', 'water_quality', 'quality_group', 'quantity',\n",
              "       'quantity_group', 'source', 'source_type', 'source_class',\n",
              "       'waterpoint_type', 'waterpoint_type_group', 'well_age'],\n",
              "      dtype='object')"
            ]
          },
          "metadata": {
            "tags": []
          },
          "execution_count": 207
        }
      ]
    },
    {
      "cell_type": "code",
      "metadata": {
        "colab": {
          "base_uri": "https://localhost:8080/"
        },
        "id": "34G5t_Q7vIrj",
        "outputId": "7fd885f3-d764-4026-dc47-28e18a267b75"
      },
      "source": [
        "df.info()"
      ],
      "execution_count": null,
      "outputs": [
        {
          "output_type": "stream",
          "text": [
            "<class 'pandas.core.frame.DataFrame'>\n",
            "Int64Index: 59400 entries, 0 to 59399\n",
            "Data columns (total 21 columns):\n",
            " #   Column                 Non-Null Count  Dtype  \n",
            "---  ------                 --------------  -----  \n",
            " 0   id                     59400 non-null  int64  \n",
            " 1   amount_tsh             59400 non-null  float64\n",
            " 2   funder                 59400 non-null  object \n",
            " 3   gps_height             59400 non-null  int64  \n",
            " 4   basin                  59400 non-null  object \n",
            " 5   region                 59400 non-null  object \n",
            " 6   region_code            59400 non-null  int64  \n",
            " 7   lga                    59400 non-null  object \n",
            " 8   population             59400 non-null  int64  \n",
            " 9   public_meeting         59400 non-null  object \n",
            " 10  scheme_management      59400 non-null  object \n",
            " 11  permit                 59400 non-null  object \n",
            " 12  extraction_type_class  59400 non-null  object \n",
            " 13  payment_type           59400 non-null  object \n",
            " 14  water_quality          59400 non-null  object \n",
            " 15  quantity               59400 non-null  object \n",
            " 16  source_type            59400 non-null  object \n",
            " 17  source_class           59400 non-null  object \n",
            " 18  waterpoint_type        59400 non-null  object \n",
            " 19  status_group           59400 non-null  object \n",
            " 20  well_age               59400 non-null  int64  \n",
            "dtypes: float64(1), int64(5), object(15)\n",
            "memory usage: 10.0+ MB\n"
          ],
          "name": "stdout"
        }
      ]
    },
    {
      "cell_type": "code",
      "metadata": {
        "id": "e6oXT8Ivu2Lz"
      },
      "source": [
        "df_test = df_test.drop(['longitude', 'latitude','district_code',\n",
        "                        'wpt_name', 'num_private', 'subvillage', 'ward','recorded_by',\n",
        "                        'extraction_type', 'extraction_type_group','scheme_name',\n",
        "                        'management_group','management','payment','quality_group', 'quantity_group',\n",
        "                        'source','waterpoint_type_group','installer'], axis=1)"
      ],
      "execution_count": null,
      "outputs": []
    },
    {
      "cell_type": "code",
      "metadata": {
        "id": "muLBId7KAwfV"
      },
      "source": [
        "df_test.scheme_management = df_test.scheme_management.fillna('unknown')\n",
        "df_test.funder = df_test.funder.fillna('unknown')\n",
        "df_test.public_meeting  = df_test.public_meeting .fillna('other')\n",
        "df_test.permit = df_test.permit.fillna('other')"
      ],
      "execution_count": null,
      "outputs": []
    },
    {
      "cell_type": "code",
      "metadata": {
        "colab": {
          "base_uri": "https://localhost:8080/"
        },
        "id": "cGvTATLiECxg",
        "outputId": "78726f96-3d1a-4368-94c0-e3b616069854"
      },
      "source": [
        "df_test.info()"
      ],
      "execution_count": null,
      "outputs": [
        {
          "output_type": "stream",
          "text": [
            "<class 'pandas.core.frame.DataFrame'>\n",
            "RangeIndex: 14850 entries, 0 to 14849\n",
            "Data columns (total 20 columns):\n",
            " #   Column                 Non-Null Count  Dtype  \n",
            "---  ------                 --------------  -----  \n",
            " 0   id                     14850 non-null  int64  \n",
            " 1   amount_tsh             14850 non-null  float64\n",
            " 2   funder                 14850 non-null  object \n",
            " 3   gps_height             14850 non-null  int64  \n",
            " 4   basin                  14850 non-null  object \n",
            " 5   region                 14850 non-null  object \n",
            " 6   region_code            14850 non-null  int64  \n",
            " 7   lga                    14850 non-null  object \n",
            " 8   population             14850 non-null  int64  \n",
            " 9   public_meeting         14850 non-null  object \n",
            " 10  scheme_management      14850 non-null  object \n",
            " 11  permit                 14850 non-null  object \n",
            " 12  extraction_type_class  14850 non-null  object \n",
            " 13  payment_type           14850 non-null  object \n",
            " 14  water_quality          14850 non-null  object \n",
            " 15  quantity               14850 non-null  object \n",
            " 16  source_type            14850 non-null  object \n",
            " 17  source_class           14850 non-null  object \n",
            " 18  waterpoint_type        14850 non-null  object \n",
            " 19  well_age               14850 non-null  int64  \n",
            "dtypes: float64(1), int64(5), object(14)\n",
            "memory usage: 2.3+ MB\n"
          ],
          "name": "stdout"
        }
      ]
    },
    {
      "cell_type": "code",
      "metadata": {
        "id": "WIqSXKZpw3vX"
      },
      "source": [
        "df_test.to_csv('/content/drive/MyDrive/Dersler/8_IT541_Machine_Learning/project/test_data_for_models.csv', index=False)"
      ],
      "execution_count": null,
      "outputs": []
    }
  ]
}