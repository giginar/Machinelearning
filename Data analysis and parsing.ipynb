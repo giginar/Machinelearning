{
  "nbformat": 4,
  "nbformat_minor": 0,
  "metadata": {
    "colab": {
      "name": "Project.ipynb",
      "provenance": [],
      "collapsed_sections": [],
      "mount_file_id": "1WSE-0yUw2MwwK512zYgEep0ySF7GuzsJ",
      "authorship_tag": "ABX9TyPncIsFfcZswcOQWPCazKgy",
      "include_colab_link": true
    },
    "kernelspec": {
      "name": "python3",
      "display_name": "Python 3"
    },
    "language_info": {
      "name": "python"
    }
  },
  "cells": [
    {
      "cell_type": "markdown",
      "metadata": {
        "id": "view-in-github",
        "colab_type": "text"
      },
      "source": [
        "<a href=\"https://colab.research.google.com/github/giginar/Machinelearning/blob/main/Data%20analysis%20and%20parsing.ipynb\" target=\"_parent\"><img src=\"https://colab.research.google.com/assets/colab-badge.svg\" alt=\"Open In Colab\"/></a>"
      ]
    },
    {
      "cell_type": "markdown",
      "metadata": {
        "id": "K5WoNQ8hi7GO"
      },
      "source": [
        "###Imports"
      ]
    },
    {
      "cell_type": "code",
      "metadata": {
        "id": "EHUKdD8Oybie"
      },
      "source": [
        "import numpy as np\n",
        "import pandas as pd\n",
        "import matplotlib.pyplot as plt\n",
        "%matplotlib inline\n",
        "import seaborn as sns\n",
        "sns.set()"
      ],
      "execution_count": null,
      "outputs": []
    },
    {
      "cell_type": "markdown",
      "metadata": {
        "id": "I87kGLx-i94a"
      },
      "source": [
        "###Data information and Load"
      ]
    },
    {
      "cell_type": "markdown",
      "metadata": {
        "id": "EX6xzYhfjG3Q"
      },
      "source": [
        "amount_tsh – Total static head (amount water available to waterpoint)\n",
        "\n",
        "date_recorded – The date the row was entered\n",
        "\n",
        "funder – Who funded the well\n",
        "\n",
        "gps_height – Altitude of the well\n",
        "\n",
        "installer – Organization that installed the well\n",
        "\n",
        "longitude – GPS coordinate\n",
        "\n",
        "latitude – GPS coordinate\n",
        "\n",
        "wpt_name – Name of the waterpoint if there is one\n",
        "\n",
        "num_private -No description\n",
        "\n",
        "basin – Geographic water basin\n",
        "\n",
        "subvillage – Geographic location\n",
        "\n",
        "region – Geographic location\n",
        "\n",
        "region_code – Geographic location (coded)\n",
        "\n",
        "district_code – Geographic location (coded)\n",
        "\n",
        "lga – Geographic location\n",
        "\n",
        "ward – Geographic location\n",
        "\n",
        "population – Population around the well\n",
        "\n",
        "public_meeting – True/False\n",
        "\n",
        "recorded_by – Group entering this row of data\n",
        "\n",
        "scheme_management – Who operates the water point\n",
        "\n",
        "scheme_name – Who operates the water point\n",
        "\n",
        "permit – If the water point is permitted\n",
        "\n",
        "construction_year – Year the water point was constructed\n",
        "\n",
        "extraction_type – The kind of extraction the water point uses\n",
        "\n",
        "extraction_type_group – The kind of extraction the water point uses\n",
        "\n",
        "extraction_type_class – The kind of extraction the water point uses\n",
        "\n",
        "management – How the water point is managed\n",
        "\n",
        "management_group – How the water point is managed\n",
        "\n",
        "payment – What the water costs\n",
        "\n",
        "payment_type – What the water costs\n",
        "\n",
        "water_quality – The quality of the water\n",
        "\n",
        "quality_group – The quality of the water\n",
        "\n",
        "quantity – The quantity of water\n",
        "\n",
        "quantity_group – The quantity of water\n",
        "\n",
        "source – The source of the water\n",
        "\n",
        "source_type – The source of the water\n",
        "\n",
        "source_class – The source of the water\n",
        "\n",
        "waterpoint_type – The kind of waterpoint\n",
        "\n",
        "waterpoint_type_group – The kind of waterpoint"
      ]
    },
    {
      "cell_type": "code",
      "metadata": {
        "colab": {
          "base_uri": "https://localhost:8080/"
        },
        "id": "XCzg_oZh1lf9",
        "outputId": "bcc9de40-fd76-453a-93b6-c9bcecabeac7"
      },
      "source": [
        "df_labels = pd.read_csv(\"/content/drive/MyDrive/Dersler/8_IT541_Machine_Learning/project/training_set_labels.csv\")\n",
        "df_values = pd.read_csv(\"/content/drive/MyDrive/Dersler/8_IT541_Machine_Learning/project/training_set_values.csv\")\n",
        "df = pd.merge(df_values, df_labels, on='id')\n",
        "df.info()"
      ],
      "execution_count": null,
      "outputs": [
        {
          "output_type": "stream",
          "text": [
            "<class 'pandas.core.frame.DataFrame'>\n",
            "Int64Index: 59400 entries, 0 to 59399\n",
            "Data columns (total 41 columns):\n",
            " #   Column                 Non-Null Count  Dtype  \n",
            "---  ------                 --------------  -----  \n",
            " 0   id                     59400 non-null  int64  \n",
            " 1   amount_tsh             59400 non-null  float64\n",
            " 2   date_recorded          59400 non-null  object \n",
            " 3   funder                 55765 non-null  object \n",
            " 4   gps_height             59400 non-null  int64  \n",
            " 5   installer              55745 non-null  object \n",
            " 6   longitude              59400 non-null  float64\n",
            " 7   latitude               59400 non-null  float64\n",
            " 8   wpt_name               59400 non-null  object \n",
            " 9   num_private            59400 non-null  int64  \n",
            " 10  basin                  59400 non-null  object \n",
            " 11  subvillage             59029 non-null  object \n",
            " 12  region                 59400 non-null  object \n",
            " 13  region_code            59400 non-null  int64  \n",
            " 14  district_code          59400 non-null  int64  \n",
            " 15  lga                    59400 non-null  object \n",
            " 16  ward                   59400 non-null  object \n",
            " 17  population             59400 non-null  int64  \n",
            " 18  public_meeting         56066 non-null  object \n",
            " 19  recorded_by            59400 non-null  object \n",
            " 20  scheme_management      55523 non-null  object \n",
            " 21  scheme_name            31234 non-null  object \n",
            " 22  permit                 56344 non-null  object \n",
            " 23  construction_year      59400 non-null  int64  \n",
            " 24  extraction_type        59400 non-null  object \n",
            " 25  extraction_type_group  59400 non-null  object \n",
            " 26  extraction_type_class  59400 non-null  object \n",
            " 27  management             59400 non-null  object \n",
            " 28  management_group       59400 non-null  object \n",
            " 29  payment                59400 non-null  object \n",
            " 30  payment_type           59400 non-null  object \n",
            " 31  water_quality          59400 non-null  object \n",
            " 32  quality_group          59400 non-null  object \n",
            " 33  quantity               59400 non-null  object \n",
            " 34  quantity_group         59400 non-null  object \n",
            " 35  source                 59400 non-null  object \n",
            " 36  source_type            59400 non-null  object \n",
            " 37  source_class           59400 non-null  object \n",
            " 38  waterpoint_type        59400 non-null  object \n",
            " 39  waterpoint_type_group  59400 non-null  object \n",
            " 40  status_group           59400 non-null  object \n",
            "dtypes: float64(3), int64(7), object(31)\n",
            "memory usage: 19.0+ MB\n"
          ],
          "name": "stdout"
        }
      ]
    },
    {
      "cell_type": "code",
      "metadata": {
        "colab": {
          "base_uri": "https://localhost:8080/"
        },
        "id": "VRf0hEDZ2agS",
        "outputId": "d1de2f0f-e43c-4b98-ae51-6690631a5c54"
      },
      "source": [
        "df.head()"
      ],
      "execution_count": null,
      "outputs": [
        {
          "output_type": "execute_result",
          "data": {
            "text/html": [
              "<div>\n",
              "<style scoped>\n",
              "    .dataframe tbody tr th:only-of-type {\n",
              "        vertical-align: middle;\n",
              "    }\n",
              "\n",
              "    .dataframe tbody tr th {\n",
              "        vertical-align: top;\n",
              "    }\n",
              "\n",
              "    .dataframe thead th {\n",
              "        text-align: right;\n",
              "    }\n",
              "</style>\n",
              "<table border=\"1\" class=\"dataframe\">\n",
              "  <thead>\n",
              "    <tr style=\"text-align: right;\">\n",
              "      <th></th>\n",
              "      <th>id</th>\n",
              "      <th>amount_tsh</th>\n",
              "      <th>date_recorded</th>\n",
              "      <th>funder</th>\n",
              "      <th>gps_height</th>\n",
              "      <th>installer</th>\n",
              "      <th>longitude</th>\n",
              "      <th>latitude</th>\n",
              "      <th>wpt_name</th>\n",
              "      <th>num_private</th>\n",
              "      <th>basin</th>\n",
              "      <th>subvillage</th>\n",
              "      <th>region</th>\n",
              "      <th>region_code</th>\n",
              "      <th>district_code</th>\n",
              "      <th>lga</th>\n",
              "      <th>ward</th>\n",
              "      <th>population</th>\n",
              "      <th>public_meeting</th>\n",
              "      <th>recorded_by</th>\n",
              "      <th>scheme_management</th>\n",
              "      <th>scheme_name</th>\n",
              "      <th>permit</th>\n",
              "      <th>construction_year</th>\n",
              "      <th>extraction_type</th>\n",
              "      <th>extraction_type_group</th>\n",
              "      <th>extraction_type_class</th>\n",
              "      <th>management</th>\n",
              "      <th>management_group</th>\n",
              "      <th>payment</th>\n",
              "      <th>payment_type</th>\n",
              "      <th>water_quality</th>\n",
              "      <th>quality_group</th>\n",
              "      <th>quantity</th>\n",
              "      <th>quantity_group</th>\n",
              "      <th>source</th>\n",
              "      <th>source_type</th>\n",
              "      <th>source_class</th>\n",
              "      <th>waterpoint_type</th>\n",
              "      <th>waterpoint_type_group</th>\n",
              "      <th>status_group</th>\n",
              "    </tr>\n",
              "  </thead>\n",
              "  <tbody>\n",
              "    <tr>\n",
              "      <th>0</th>\n",
              "      <td>69572</td>\n",
              "      <td>6000.0</td>\n",
              "      <td>2011-03-14</td>\n",
              "      <td>Roman</td>\n",
              "      <td>1390</td>\n",
              "      <td>Roman</td>\n",
              "      <td>34.938093</td>\n",
              "      <td>-9.856322</td>\n",
              "      <td>none</td>\n",
              "      <td>0</td>\n",
              "      <td>Lake Nyasa</td>\n",
              "      <td>Mnyusi B</td>\n",
              "      <td>Iringa</td>\n",
              "      <td>11</td>\n",
              "      <td>5</td>\n",
              "      <td>Ludewa</td>\n",
              "      <td>Mundindi</td>\n",
              "      <td>109</td>\n",
              "      <td>True</td>\n",
              "      <td>GeoData Consultants Ltd</td>\n",
              "      <td>VWC</td>\n",
              "      <td>Roman</td>\n",
              "      <td>False</td>\n",
              "      <td>1999</td>\n",
              "      <td>gravity</td>\n",
              "      <td>gravity</td>\n",
              "      <td>gravity</td>\n",
              "      <td>vwc</td>\n",
              "      <td>user-group</td>\n",
              "      <td>pay annually</td>\n",
              "      <td>annually</td>\n",
              "      <td>soft</td>\n",
              "      <td>good</td>\n",
              "      <td>enough</td>\n",
              "      <td>enough</td>\n",
              "      <td>spring</td>\n",
              "      <td>spring</td>\n",
              "      <td>groundwater</td>\n",
              "      <td>communal standpipe</td>\n",
              "      <td>communal standpipe</td>\n",
              "      <td>functional</td>\n",
              "    </tr>\n",
              "    <tr>\n",
              "      <th>1</th>\n",
              "      <td>8776</td>\n",
              "      <td>0.0</td>\n",
              "      <td>2013-03-06</td>\n",
              "      <td>Grumeti</td>\n",
              "      <td>1399</td>\n",
              "      <td>GRUMETI</td>\n",
              "      <td>34.698766</td>\n",
              "      <td>-2.147466</td>\n",
              "      <td>Zahanati</td>\n",
              "      <td>0</td>\n",
              "      <td>Lake Victoria</td>\n",
              "      <td>Nyamara</td>\n",
              "      <td>Mara</td>\n",
              "      <td>20</td>\n",
              "      <td>2</td>\n",
              "      <td>Serengeti</td>\n",
              "      <td>Natta</td>\n",
              "      <td>280</td>\n",
              "      <td>NaN</td>\n",
              "      <td>GeoData Consultants Ltd</td>\n",
              "      <td>Other</td>\n",
              "      <td>NaN</td>\n",
              "      <td>True</td>\n",
              "      <td>2010</td>\n",
              "      <td>gravity</td>\n",
              "      <td>gravity</td>\n",
              "      <td>gravity</td>\n",
              "      <td>wug</td>\n",
              "      <td>user-group</td>\n",
              "      <td>never pay</td>\n",
              "      <td>never pay</td>\n",
              "      <td>soft</td>\n",
              "      <td>good</td>\n",
              "      <td>insufficient</td>\n",
              "      <td>insufficient</td>\n",
              "      <td>rainwater harvesting</td>\n",
              "      <td>rainwater harvesting</td>\n",
              "      <td>surface</td>\n",
              "      <td>communal standpipe</td>\n",
              "      <td>communal standpipe</td>\n",
              "      <td>functional</td>\n",
              "    </tr>\n",
              "    <tr>\n",
              "      <th>2</th>\n",
              "      <td>34310</td>\n",
              "      <td>25.0</td>\n",
              "      <td>2013-02-25</td>\n",
              "      <td>Lottery Club</td>\n",
              "      <td>686</td>\n",
              "      <td>World vision</td>\n",
              "      <td>37.460664</td>\n",
              "      <td>-3.821329</td>\n",
              "      <td>Kwa Mahundi</td>\n",
              "      <td>0</td>\n",
              "      <td>Pangani</td>\n",
              "      <td>Majengo</td>\n",
              "      <td>Manyara</td>\n",
              "      <td>21</td>\n",
              "      <td>4</td>\n",
              "      <td>Simanjiro</td>\n",
              "      <td>Ngorika</td>\n",
              "      <td>250</td>\n",
              "      <td>True</td>\n",
              "      <td>GeoData Consultants Ltd</td>\n",
              "      <td>VWC</td>\n",
              "      <td>Nyumba ya mungu pipe scheme</td>\n",
              "      <td>True</td>\n",
              "      <td>2009</td>\n",
              "      <td>gravity</td>\n",
              "      <td>gravity</td>\n",
              "      <td>gravity</td>\n",
              "      <td>vwc</td>\n",
              "      <td>user-group</td>\n",
              "      <td>pay per bucket</td>\n",
              "      <td>per bucket</td>\n",
              "      <td>soft</td>\n",
              "      <td>good</td>\n",
              "      <td>enough</td>\n",
              "      <td>enough</td>\n",
              "      <td>dam</td>\n",
              "      <td>dam</td>\n",
              "      <td>surface</td>\n",
              "      <td>communal standpipe multiple</td>\n",
              "      <td>communal standpipe</td>\n",
              "      <td>functional</td>\n",
              "    </tr>\n",
              "    <tr>\n",
              "      <th>3</th>\n",
              "      <td>67743</td>\n",
              "      <td>0.0</td>\n",
              "      <td>2013-01-28</td>\n",
              "      <td>Unicef</td>\n",
              "      <td>263</td>\n",
              "      <td>UNICEF</td>\n",
              "      <td>38.486161</td>\n",
              "      <td>-11.155298</td>\n",
              "      <td>Zahanati Ya Nanyumbu</td>\n",
              "      <td>0</td>\n",
              "      <td>Ruvuma / Southern Coast</td>\n",
              "      <td>Mahakamani</td>\n",
              "      <td>Mtwara</td>\n",
              "      <td>90</td>\n",
              "      <td>63</td>\n",
              "      <td>Nanyumbu</td>\n",
              "      <td>Nanyumbu</td>\n",
              "      <td>58</td>\n",
              "      <td>True</td>\n",
              "      <td>GeoData Consultants Ltd</td>\n",
              "      <td>VWC</td>\n",
              "      <td>NaN</td>\n",
              "      <td>True</td>\n",
              "      <td>1986</td>\n",
              "      <td>submersible</td>\n",
              "      <td>submersible</td>\n",
              "      <td>submersible</td>\n",
              "      <td>vwc</td>\n",
              "      <td>user-group</td>\n",
              "      <td>never pay</td>\n",
              "      <td>never pay</td>\n",
              "      <td>soft</td>\n",
              "      <td>good</td>\n",
              "      <td>dry</td>\n",
              "      <td>dry</td>\n",
              "      <td>machine dbh</td>\n",
              "      <td>borehole</td>\n",
              "      <td>groundwater</td>\n",
              "      <td>communal standpipe multiple</td>\n",
              "      <td>communal standpipe</td>\n",
              "      <td>non functional</td>\n",
              "    </tr>\n",
              "    <tr>\n",
              "      <th>4</th>\n",
              "      <td>19728</td>\n",
              "      <td>0.0</td>\n",
              "      <td>2011-07-13</td>\n",
              "      <td>Action In A</td>\n",
              "      <td>0</td>\n",
              "      <td>Artisan</td>\n",
              "      <td>31.130847</td>\n",
              "      <td>-1.825359</td>\n",
              "      <td>Shuleni</td>\n",
              "      <td>0</td>\n",
              "      <td>Lake Victoria</td>\n",
              "      <td>Kyanyamisa</td>\n",
              "      <td>Kagera</td>\n",
              "      <td>18</td>\n",
              "      <td>1</td>\n",
              "      <td>Karagwe</td>\n",
              "      <td>Nyakasimbi</td>\n",
              "      <td>0</td>\n",
              "      <td>True</td>\n",
              "      <td>GeoData Consultants Ltd</td>\n",
              "      <td>NaN</td>\n",
              "      <td>NaN</td>\n",
              "      <td>True</td>\n",
              "      <td>0</td>\n",
              "      <td>gravity</td>\n",
              "      <td>gravity</td>\n",
              "      <td>gravity</td>\n",
              "      <td>other</td>\n",
              "      <td>other</td>\n",
              "      <td>never pay</td>\n",
              "      <td>never pay</td>\n",
              "      <td>soft</td>\n",
              "      <td>good</td>\n",
              "      <td>seasonal</td>\n",
              "      <td>seasonal</td>\n",
              "      <td>rainwater harvesting</td>\n",
              "      <td>rainwater harvesting</td>\n",
              "      <td>surface</td>\n",
              "      <td>communal standpipe</td>\n",
              "      <td>communal standpipe</td>\n",
              "      <td>functional</td>\n",
              "    </tr>\n",
              "  </tbody>\n",
              "</table>\n",
              "</div>"
            ],
            "text/plain": [
              "      id  amount_tsh  ... waterpoint_type_group    status_group\n",
              "0  69572      6000.0  ...    communal standpipe      functional\n",
              "1   8776         0.0  ...    communal standpipe      functional\n",
              "2  34310        25.0  ...    communal standpipe      functional\n",
              "3  67743         0.0  ...    communal standpipe  non functional\n",
              "4  19728         0.0  ...    communal standpipe      functional\n",
              "\n",
              "[5 rows x 41 columns]"
            ]
          },
          "metadata": {
            "tags": []
          },
          "execution_count": 3
        }
      ]
    },
    {
      "cell_type": "code",
      "metadata": {
        "colab": {
          "base_uri": "https://localhost:8080/"
        },
        "id": "c4A8e0ziAwnL",
        "outputId": "87be04dd-e226-4b16-d9de-2fbddf1b129f"
      },
      "source": [
        "#cheking if there are null values.\n",
        "df.apply(lambda x: sum(x.isnull()))"
      ],
      "execution_count": null,
      "outputs": [
        {
          "output_type": "execute_result",
          "data": {
            "text/plain": [
              "id                           0\n",
              "amount_tsh                   0\n",
              "date_recorded                0\n",
              "funder                    3635\n",
              "gps_height                   0\n",
              "installer                 3655\n",
              "longitude                    0\n",
              "latitude                     0\n",
              "wpt_name                     0\n",
              "num_private                  0\n",
              "basin                        0\n",
              "subvillage                 371\n",
              "region                       0\n",
              "region_code                  0\n",
              "district_code                0\n",
              "lga                          0\n",
              "ward                         0\n",
              "population                   0\n",
              "public_meeting            3334\n",
              "recorded_by                  0\n",
              "scheme_management         3877\n",
              "scheme_name              28166\n",
              "permit                    3056\n",
              "construction_year            0\n",
              "extraction_type              0\n",
              "extraction_type_group        0\n",
              "extraction_type_class        0\n",
              "management                   0\n",
              "management_group             0\n",
              "payment                      0\n",
              "payment_type                 0\n",
              "water_quality                0\n",
              "quality_group                0\n",
              "quantity                     0\n",
              "quantity_group               0\n",
              "source                       0\n",
              "source_type                  0\n",
              "source_class                 0\n",
              "waterpoint_type              0\n",
              "waterpoint_type_group        0\n",
              "status_group                 0\n",
              "dtype: int64"
            ]
          },
          "metadata": {
            "tags": []
          },
          "execution_count": 4
        }
      ]
    },
    {
      "cell_type": "code",
      "metadata": {
        "id": "CKMTgb_saSdc"
      },
      "source": [
        "#funder,installer,gps_height,subvillage,public_meeting,scheme_management,scheme_name,permit have some null values."
      ],
      "execution_count": null,
      "outputs": []
    },
    {
      "cell_type": "code",
      "metadata": {
        "id": "_w9CjfgH565X"
      },
      "source": [
        "#These geographical values will not be effective on the model.\n",
        "#region_code and district_code are wont be effective also.\n",
        "#id is also not necessary.\n",
        "#num_private is the same.\n",
        "df = df.drop(['gps_height', 'longitude', 'latitude', 'region_code', 'district_code','num_private'], axis=1)\n"
      ],
      "execution_count": null,
      "outputs": []
    },
    {
      "cell_type": "code",
      "metadata": {
        "id": "FzR8ofYYDQbw"
      },
      "source": [
        "#wpt_name is name of the waterpoint, it wont be effective, so i will drop it.\n",
        "df = df.drop(['wpt_name'], axis=1)"
      ],
      "execution_count": null,
      "outputs": []
    },
    {
      "cell_type": "code",
      "metadata": {
        "id": "fAA0GPeJEROa"
      },
      "source": [
        "#base, lga, ward and region are string values and all are related referring to the same thing, \n",
        "#georaphical location of the wells. They maybe correlated with each other. We will drop them.\n",
        "df = df.drop(['region', 'lga', 'ward'], axis=1)"
      ],
      "execution_count": null,
      "outputs": []
    },
    {
      "cell_type": "code",
      "metadata": {
        "colab": {
          "base_uri": "https://localhost:8080/"
        },
        "id": "eJtsAmhiRMCO",
        "outputId": "ee2ef31b-612b-4f80-abf7-58d25462692a"
      },
      "source": [
        "df.recorded_by.value_counts()"
      ],
      "execution_count": null,
      "outputs": [
        {
          "output_type": "execute_result",
          "data": {
            "text/plain": [
              "GeoData Consultants Ltd    59400\n",
              "Name: recorded_by, dtype: int64"
            ]
          },
          "metadata": {
            "tags": []
          },
          "execution_count": 9
        }
      ]
    },
    {
      "cell_type": "code",
      "metadata": {
        "id": "rbOlXbTORNSu"
      },
      "source": [
        "#all the recorded by the same company, must be dropped.\n",
        "df = df.drop('recorded_by', axis=1)"
      ],
      "execution_count": null,
      "outputs": []
    },
    {
      "cell_type": "markdown",
      "metadata": {
        "id": "UxKPaQsWgsR6"
      },
      "source": [
        "###extraction_type, extraction_type_group and extraction_type_class"
      ]
    },
    {
      "cell_type": "code",
      "metadata": {
        "colab": {
          "base_uri": "https://localhost:8080/"
        },
        "id": "T1R2C-rmRhWE",
        "outputId": "89f290ac-7a21-4e07-e575-8492c0ddd5c7"
      },
      "source": [
        "# extraction_type, extraction_type_group and extraction_type_class are the same data.\n",
        "# Two of them must be dropped.\n",
        "print(df.groupby(['extraction_type_group', 'extraction_type','extraction_type_class']).size())"
      ],
      "execution_count": null,
      "outputs": [
        {
          "output_type": "stream",
          "text": [
            "extraction_type_group  extraction_type            extraction_type_class\n",
            "afridev                afridev                    handpump                  1770\n",
            "gravity                gravity                    gravity                  26780\n",
            "india mark ii          india mark ii              handpump                  2400\n",
            "india mark iii         india mark iii             handpump                    98\n",
            "mono                   mono                       motorpump                 2865\n",
            "nira/tanira            nira/tanira                handpump                  8154\n",
            "other                  other                      other                     6430\n",
            "other handpump         other - mkulima/shinyanga  handpump                     2\n",
            "                       other - play pump          handpump                    85\n",
            "                       other - swn 81             handpump                   229\n",
            "                       walimi                     handpump                    48\n",
            "other motorpump        cemo                       motorpump                   90\n",
            "                       climax                     motorpump                   32\n",
            "rope pump              other - rope pump          rope pump                  451\n",
            "submersible            ksb                        submersible               1415\n",
            "                       submersible                submersible               4764\n",
            "swn 80                 swn 80                     handpump                  3670\n",
            "wind-powered           windmill                   wind-powered               117\n",
            "dtype: int64\n"
          ],
          "name": "stdout"
        }
      ]
    },
    {
      "cell_type": "code",
      "metadata": {
        "id": "z6EM6wiPgJrC"
      },
      "source": [
        "df = df.drop(['extraction_type', 'extraction_type_group'], axis=1)"
      ],
      "execution_count": null,
      "outputs": []
    },
    {
      "cell_type": "markdown",
      "metadata": {
        "id": "KSXn_CrchCJg"
      },
      "source": [
        "###management, management_group and scheme_management"
      ]
    },
    {
      "cell_type": "code",
      "metadata": {
        "colab": {
          "base_uri": "https://localhost:8080/"
        },
        "id": "gDBrQt8iAO1Q",
        "outputId": "87749a5f-0035-4592-cfb8-675f5a4e6729"
      },
      "source": [
        "#management, management_group and scheme_management can be same.\n",
        "df.management.value_counts()"
      ],
      "execution_count": null,
      "outputs": [
        {
          "output_type": "execute_result",
          "data": {
            "text/plain": [
              "vwc                 40507\n",
              "wug                  6515\n",
              "water board          2933\n",
              "wua                  2535\n",
              "private operator     1971\n",
              "parastatal           1768\n",
              "water authority       904\n",
              "other                 844\n",
              "company               685\n",
              "unknown               561\n",
              "other - school         99\n",
              "trust                  78\n",
              "Name: management, dtype: int64"
            ]
          },
          "metadata": {
            "tags": []
          },
          "execution_count": 13
        }
      ]
    },
    {
      "cell_type": "code",
      "metadata": {
        "colab": {
          "base_uri": "https://localhost:8080/"
        },
        "id": "X1FBm-mnAlo2",
        "outputId": "bc1f1be3-78c5-4f1d-8069-82ad5ff3d914"
      },
      "source": [
        "df.scheme_management.value_counts()"
      ],
      "execution_count": null,
      "outputs": [
        {
          "output_type": "execute_result",
          "data": {
            "text/plain": [
              "VWC                 36793\n",
              "WUG                  5206\n",
              "Water authority      3153\n",
              "WUA                  2883\n",
              "Water Board          2748\n",
              "Parastatal           1680\n",
              "Private operator     1063\n",
              "Company              1061\n",
              "Other                 766\n",
              "SWC                    97\n",
              "Trust                  72\n",
              "None                    1\n",
              "Name: scheme_management, dtype: int64"
            ]
          },
          "metadata": {
            "tags": []
          },
          "execution_count": 14
        }
      ]
    },
    {
      "cell_type": "code",
      "metadata": {
        "colab": {
          "base_uri": "https://localhost:8080/"
        },
        "id": "V5cu9_62Cltt",
        "outputId": "9f5b5142-23fa-4eda-bf35-2d9b55b8050b"
      },
      "source": [
        "df.management_group.value_counts()"
      ],
      "execution_count": null,
      "outputs": [
        {
          "output_type": "execute_result",
          "data": {
            "text/plain": [
              "user-group    52490\n",
              "commercial     3638\n",
              "parastatal     1768\n",
              "other           943\n",
              "unknown         561\n",
              "Name: management_group, dtype: int64"
            ]
          },
          "metadata": {
            "tags": []
          },
          "execution_count": 15
        }
      ]
    },
    {
      "cell_type": "code",
      "metadata": {
        "id": "mybJ_nEdArQv"
      },
      "source": [
        "#looks like same thing i will drop two. \n",
        "#management_group has a user_group thing looks good to drop\n",
        "#scheme_management has some nulls so i will drop that one."
      ],
      "execution_count": null,
      "outputs": []
    },
    {
      "cell_type": "code",
      "metadata": {
        "id": "nLd9IjfIxv0s"
      },
      "source": [
        "df = df.drop(['management_group','management'], axis=1)"
      ],
      "execution_count": null,
      "outputs": []
    },
    {
      "cell_type": "markdown",
      "metadata": {
        "id": "BfFMMm_lgaZN"
      },
      "source": [
        "###Payment - Payment Value"
      ]
    },
    {
      "cell_type": "code",
      "metadata": {
        "colab": {
          "base_uri": "https://localhost:8080/"
        },
        "id": "Akmo7_PcDPVi",
        "outputId": "346eaf61-247c-48d2-900a-4a5049e16af7"
      },
      "source": [
        "#payment and payment_value can also be same or similar.\n",
        "print(df.groupby(['payment','payment_type']).size())"
      ],
      "execution_count": null,
      "outputs": [
        {
          "output_type": "stream",
          "text": [
            "payment                payment_type\n",
            "never pay              never pay       25348\n",
            "other                  other            1054\n",
            "pay annually           annually         3642\n",
            "pay monthly            monthly          8300\n",
            "pay per bucket         per bucket       8985\n",
            "pay when scheme fails  on failure       3914\n",
            "unknown                unknown          8157\n",
            "dtype: int64\n"
          ],
          "name": "stdout"
        }
      ]
    },
    {
      "cell_type": "code",
      "metadata": {
        "id": "9RIXndXgDeAV"
      },
      "source": [
        "#payment and payment_value, they are exact match, one will drop.\n",
        "df = df.drop('payment', axis=1)"
      ],
      "execution_count": null,
      "outputs": []
    },
    {
      "cell_type": "markdown",
      "metadata": {
        "id": "0j1foiTkhXtK"
      },
      "source": [
        "###water_quality and quality_group"
      ]
    },
    {
      "cell_type": "code",
      "metadata": {
        "colab": {
          "base_uri": "https://localhost:8080/"
        },
        "id": "ycWhtJauhbwC",
        "outputId": "8bdb7645-754a-4363-81a9-443b031b92bd"
      },
      "source": [
        "#water_quality and quality_group can also be same or similar.\n",
        "print(df.groupby(['water_quality','quality_group']).size())"
      ],
      "execution_count": null,
      "outputs": [
        {
          "output_type": "stream",
          "text": [
            "water_quality       quality_group\n",
            "coloured            colored            490\n",
            "fluoride            fluoride           200\n",
            "fluoride abandoned  fluoride            17\n",
            "milky               milky              804\n",
            "salty               salty             4856\n",
            "salty abandoned     salty              339\n",
            "soft                good             50818\n",
            "unknown             unknown           1876\n",
            "dtype: int64\n"
          ],
          "name": "stdout"
        }
      ]
    },
    {
      "cell_type": "code",
      "metadata": {
        "id": "3Cy-cBj6D0kO"
      },
      "source": [
        "#water_quality and quality_group, they are representing the same thing, one will drop.\n",
        "df = df.drop('quality_group', axis=1)"
      ],
      "execution_count": null,
      "outputs": []
    },
    {
      "cell_type": "markdown",
      "metadata": {
        "id": "DG_uukjzhlV_"
      },
      "source": [
        "###quantity and quantity_group"
      ]
    },
    {
      "cell_type": "code",
      "metadata": {
        "colab": {
          "base_uri": "https://localhost:8080/"
        },
        "id": "-Zx-BAnRhpjs",
        "outputId": "ba2f8bf0-87ae-457f-e3ea-906e62ee255c"
      },
      "source": [
        "#quantity and quantity_group can also be same or similar.\n",
        "print(df.groupby(['quantity','quantity_group']).size())"
      ],
      "execution_count": null,
      "outputs": [
        {
          "output_type": "stream",
          "text": [
            "quantity      quantity_group\n",
            "dry           dry                6246\n",
            "enough        enough            33186\n",
            "insufficient  insufficient      15129\n",
            "seasonal      seasonal           4050\n",
            "unknown       unknown             789\n",
            "dtype: int64\n"
          ],
          "name": "stdout"
        }
      ]
    },
    {
      "cell_type": "code",
      "metadata": {
        "id": "bIkE3urlEC-F"
      },
      "source": [
        "#quantity and quantity_group, they are exact match, one will drop.\n",
        "df = df.drop('quantity_group', axis=1)"
      ],
      "execution_count": null,
      "outputs": []
    },
    {
      "cell_type": "markdown",
      "metadata": {
        "id": "rDz8INIMhwN3"
      },
      "source": [
        "###Source, source_type and source_class"
      ]
    },
    {
      "cell_type": "code",
      "metadata": {
        "id": "ScKaCDLlEC70"
      },
      "source": [
        "#Source, source_type and source_class can be the same."
      ],
      "execution_count": null,
      "outputs": []
    },
    {
      "cell_type": "code",
      "metadata": {
        "colab": {
          "base_uri": "https://localhost:8080/"
        },
        "id": "Fj_zcXFThzLe",
        "outputId": "657bda73-d6fd-400f-eeb5-2cf5ed0729fa"
      },
      "source": [
        "print(df.groupby(['source','source_type','source_class']).size())"
      ],
      "execution_count": null,
      "outputs": [
        {
          "output_type": "stream",
          "text": [
            "source                source_type           source_class\n",
            "dam                   dam                   surface           656\n",
            "hand dtw              borehole              groundwater       874\n",
            "lake                  river/lake            surface           765\n",
            "machine dbh           borehole              groundwater     11075\n",
            "other                 other                 unknown           212\n",
            "rainwater harvesting  rainwater harvesting  surface          2295\n",
            "river                 river/lake            surface          9612\n",
            "shallow well          shallow well          groundwater     16824\n",
            "spring                spring                groundwater     17021\n",
            "unknown               other                 unknown            66\n",
            "dtype: int64\n"
          ],
          "name": "stdout"
        }
      ]
    },
    {
      "cell_type": "code",
      "metadata": {
        "colab": {
          "base_uri": "https://localhost:8080/"
        },
        "id": "ZX_Ll7G6EC5l",
        "outputId": "a47839d3-d97b-40b5-ee65-e0585f750196"
      },
      "source": [
        "df.source.value_counts()"
      ],
      "execution_count": null,
      "outputs": [
        {
          "output_type": "execute_result",
          "data": {
            "text/plain": [
              "spring                  17021\n",
              "shallow well            16824\n",
              "machine dbh             11075\n",
              "river                    9612\n",
              "rainwater harvesting     2295\n",
              "hand dtw                  874\n",
              "lake                      765\n",
              "dam                       656\n",
              "other                     212\n",
              "unknown                    66\n",
              "Name: source, dtype: int64"
            ]
          },
          "metadata": {
            "tags": []
          },
          "execution_count": 26
        }
      ]
    },
    {
      "cell_type": "code",
      "metadata": {
        "colab": {
          "base_uri": "https://localhost:8080/"
        },
        "id": "lNl5TZ40Evgs",
        "outputId": "f83d0977-2fc0-4361-aa1f-da297ab8f5e1"
      },
      "source": [
        "df.source_class.value_counts()"
      ],
      "execution_count": null,
      "outputs": [
        {
          "output_type": "execute_result",
          "data": {
            "text/plain": [
              "groundwater    45794\n",
              "surface        13328\n",
              "unknown          278\n",
              "Name: source_class, dtype: int64"
            ]
          },
          "metadata": {
            "tags": []
          },
          "execution_count": 27
        }
      ]
    },
    {
      "cell_type": "code",
      "metadata": {
        "colab": {
          "base_uri": "https://localhost:8080/"
        },
        "id": "kAG5lGOUEvfC",
        "outputId": "af588930-95bc-4f0b-8dab-63f29fc84e2a"
      },
      "source": [
        "df.source_type.value_counts()"
      ],
      "execution_count": null,
      "outputs": [
        {
          "output_type": "execute_result",
          "data": {
            "text/plain": [
              "spring                  17021\n",
              "shallow well            16824\n",
              "borehole                11949\n",
              "river/lake              10377\n",
              "rainwater harvesting     2295\n",
              "dam                       656\n",
              "other                     278\n",
              "Name: source_type, dtype: int64"
            ]
          },
          "metadata": {
            "tags": []
          },
          "execution_count": 28
        }
      ]
    },
    {
      "cell_type": "code",
      "metadata": {
        "id": "Fh3PoZmsEvdG"
      },
      "source": [
        "#Source class is different then others, it will stay.\n",
        "#source and source_type are the same thing, so one will drop.\n",
        "df = df.drop('source', axis=1)"
      ],
      "execution_count": null,
      "outputs": []
    },
    {
      "cell_type": "markdown",
      "metadata": {
        "id": "Ta800R4vtJ25"
      },
      "source": [
        "###Waterpoint_type and waterpoint_type_group"
      ]
    },
    {
      "cell_type": "code",
      "metadata": {
        "colab": {
          "base_uri": "https://localhost:8080/"
        },
        "id": "NknOo_5GtPOo",
        "outputId": "cfc0b0bd-3993-4a93-ad0e-5f55839e2961"
      },
      "source": [
        "print(df.groupby(['waterpoint_type','waterpoint_type_group']).size())"
      ],
      "execution_count": null,
      "outputs": [
        {
          "output_type": "stream",
          "text": [
            "waterpoint_type              waterpoint_type_group\n",
            "cattle trough                cattle trough              116\n",
            "communal standpipe           communal standpipe       28522\n",
            "communal standpipe multiple  communal standpipe        6103\n",
            "dam                          dam                          7\n",
            "hand pump                    hand pump                17488\n",
            "improved spring              improved spring            784\n",
            "other                        other                     6380\n",
            "dtype: int64\n"
          ],
          "name": "stdout"
        }
      ]
    },
    {
      "cell_type": "code",
      "metadata": {
        "id": "mk9UiqiWtdYt"
      },
      "source": [
        "#waterpoint_type waterpoint_type_group are representing the same.\n",
        "#one of them will drop.\n",
        "df = df.drop('waterpoint_type_group', axis=1)"
      ],
      "execution_count": null,
      "outputs": []
    },
    {
      "cell_type": "markdown",
      "metadata": {
        "id": "h5ROSfF1iF9m"
      },
      "source": [
        "###Rest of the null values and others"
      ]
    },
    {
      "cell_type": "code",
      "metadata": {
        "colab": {
          "base_uri": "https://localhost:8080/"
        },
        "id": "9nB1LJ6LEvbB",
        "outputId": "b06236d6-ffcf-4b2e-e115-059c7a07a69c"
      },
      "source": [
        "df.apply(lambda x: sum(x.isnull()))"
      ],
      "execution_count": null,
      "outputs": [
        {
          "output_type": "execute_result",
          "data": {
            "text/plain": [
              "id                           0\n",
              "amount_tsh                   0\n",
              "date_recorded                0\n",
              "funder                    3635\n",
              "installer                 3655\n",
              "basin                        0\n",
              "subvillage                 371\n",
              "population                   0\n",
              "public_meeting            3334\n",
              "scheme_management         3877\n",
              "scheme_name              28166\n",
              "permit                    3056\n",
              "construction_year            0\n",
              "extraction_type_class        0\n",
              "payment_type                 0\n",
              "water_quality                0\n",
              "quantity                     0\n",
              "source_type                  0\n",
              "source_class                 0\n",
              "waterpoint_type              0\n",
              "status_group                 0\n",
              "dtype: int64"
            ]
          },
          "metadata": {
            "tags": []
          },
          "execution_count": 32
        }
      ]
    },
    {
      "cell_type": "code",
      "metadata": {
        "id": "Wipc7DH5ai9H"
      },
      "source": [
        "#gps_height, had some null values, but they are removed.\n",
        "#funder,installer,subvillage,public_meeting,scheme_name,permit have some null values,\n",
        "#we have to deal with them."
      ],
      "execution_count": null,
      "outputs": []
    },
    {
      "cell_type": "code",
      "metadata": {
        "colab": {
          "base_uri": "https://localhost:8080/"
        },
        "id": "_gBNVst1br9c",
        "outputId": "87ece8a8-56e7-4b8e-a425-bbe1958bd2e2"
      },
      "source": [
        "#sns.countplot(x='subvillage',data=df) that's not working.\n",
        "print(df.subvillage.value_counts())"
      ],
      "execution_count": null,
      "outputs": [
        {
          "output_type": "stream",
          "text": [
            "Madukani              508\n",
            "Shuleni               506\n",
            "Majengo               502\n",
            "Kati                  373\n",
            "Mtakuja               262\n",
            "                     ... \n",
            "Kiwanja 12              1\n",
            "Kisiso                  1\n",
            "Kwemn`Gongo             1\n",
            "Mwasuta                 1\n",
            "Mwasonga Magengeni      1\n",
            "Name: subvillage, Length: 19287, dtype: int64\n"
          ],
          "name": "stdout"
        }
      ]
    },
    {
      "cell_type": "code",
      "metadata": {
        "id": "S189D-OLdSLG"
      },
      "source": [
        "#Length: 19287, that much different village can not be effective on the model.\n",
        "df = df.drop('subvillage', axis=1)"
      ],
      "execution_count": null,
      "outputs": []
    },
    {
      "cell_type": "code",
      "metadata": {
        "colab": {
          "base_uri": "https://localhost:8080/"
        },
        "id": "uMx6khd9iZtB",
        "outputId": "ccbf6a6e-c657-4ec8-91fe-4e0d57541355"
      },
      "source": [
        "df.groupby(['installer','funder','status_group']).size()"
      ],
      "execution_count": null,
      "outputs": [
        {
          "output_type": "execute_result",
          "data": {
            "text/plain": [
              "installer       funder                  status_group           \n",
              "-               Government Of Tanzania  functional                   1\n",
              "                                        non functional               1\n",
              "                Kalebejo Parish         functional                   1\n",
              "0               0                       functional                 445\n",
              "                                        functional needs repair      3\n",
              "                                                                  ... \n",
              "wizara ya maji  Serikali                functional                   2\n",
              "world           World Bank              functional needs repair      1\n",
              "                                        non functional               3\n",
              "world banks     World Bank              non functional               1\n",
              "world vision    World Vision            functional                   1\n",
              "Length: 5188, dtype: int64"
            ]
          },
          "metadata": {
            "tags": []
          },
          "execution_count": 36
        }
      ]
    },
    {
      "cell_type": "code",
      "metadata": {
        "id": "RiVnI0LBil2r"
      },
      "source": [
        "#installer and funder representing the same thing, will drop installer.\n",
        "#also, filling empty funder rows with \"unknown\"\n",
        "df.funder = df.funder.fillna('unknown')\n",
        "df = df.drop('installer',axis=1)"
      ],
      "execution_count": null,
      "outputs": []
    },
    {
      "cell_type": "code",
      "metadata": {
        "id": "yHC941vBjdWf"
      },
      "source": [
        "#Permit and public meeting\n",
        "#can be dropped or filled with other.\n",
        "df.permit = df.permit.fillna('other')\n",
        "df.public_meeting  = df.public_meeting .fillna('other')"
      ],
      "execution_count": null,
      "outputs": []
    },
    {
      "cell_type": "code",
      "metadata": {
        "colab": {
          "base_uri": "https://localhost:8080/"
        },
        "id": "ZyaKjU0-j-1F",
        "outputId": "483c045d-bde3-4801-c429-81c312ae4520"
      },
      "source": [
        "df.apply(lambda x: sum(x.isnull()))"
      ],
      "execution_count": null,
      "outputs": [
        {
          "output_type": "execute_result",
          "data": {
            "text/plain": [
              "id                           0\n",
              "amount_tsh                   0\n",
              "date_recorded                0\n",
              "funder                       0\n",
              "basin                        0\n",
              "population                   0\n",
              "public_meeting               0\n",
              "scheme_management         3877\n",
              "scheme_name              28166\n",
              "permit                       0\n",
              "construction_year            0\n",
              "extraction_type_class        0\n",
              "payment_type                 0\n",
              "water_quality                0\n",
              "quantity                     0\n",
              "source_type                  0\n",
              "source_class                 0\n",
              "waterpoint_type              0\n",
              "status_group                 0\n",
              "dtype: int64"
            ]
          },
          "metadata": {
            "tags": []
          },
          "execution_count": 39
        }
      ]
    },
    {
      "cell_type": "code",
      "metadata": {
        "colab": {
          "base_uri": "https://localhost:8080/"
        },
        "id": "Mp8LRzncIC9M",
        "outputId": "d3004083-346a-4ffe-f87b-b10a89dd25b9"
      },
      "source": [
        "df.groupby(['scheme_management','scheme_name','status_group']).size()"
      ],
      "execution_count": null,
      "outputs": [
        {
          "output_type": "execute_result",
          "data": {
            "text/plain": [
              "scheme_management  scheme_name               status_group           \n",
              "Company            BFFS                      non functional               1\n",
              "                   Bagamoyo Wate             functional                  47\n",
              "                                             non functional              13\n",
              "                   Bagamoyo wate             functional                 150\n",
              "                                             non functional              60\n",
              "                                                                       ... \n",
              "Water authority    no scheme                 functional                   5\n",
              "                                             functional needs repair      1\n",
              "                                             non functional               3\n",
              "                   pump                      non functional               2\n",
              "                   water supply at Kalebejo  non functional               1\n",
              "Length: 4630, dtype: int64"
            ]
          },
          "metadata": {
            "tags": []
          },
          "execution_count": 40
        }
      ]
    },
    {
      "cell_type": "code",
      "metadata": {
        "id": "iyfMBtgLnqIK"
      },
      "source": [
        "#scheme_name – Who operates the water point\n",
        "#too much empty variable, but will fill the empty ones with unknown also.\n",
        "df = df.drop('scheme_name',axis=1)\n",
        "df.scheme_management = df.scheme_management.fillna('unknown')"
      ],
      "execution_count": null,
      "outputs": []
    },
    {
      "cell_type": "code",
      "metadata": {
        "id": "jQ4AHaOunqGM"
      },
      "source": [
        "#there are no null values."
      ],
      "execution_count": null,
      "outputs": []
    },
    {
      "cell_type": "markdown",
      "metadata": {
        "id": "7fyYnItmoNge"
      },
      "source": [
        "###Construction_year is string"
      ]
    },
    {
      "cell_type": "code",
      "metadata": {
        "colab": {
          "base_uri": "https://localhost:8080/"
        },
        "id": "Ji4v2OjsnqBN",
        "outputId": "1411e137-8b78-4465-cb3d-33c25b925ac4"
      },
      "source": [
        "df.construction_year.value_counts()"
      ],
      "execution_count": null,
      "outputs": [
        {
          "output_type": "execute_result",
          "data": {
            "text/plain": [
              "0       20709\n",
              "2010     2645\n",
              "2008     2613\n",
              "2009     2533\n",
              "2000     2091\n",
              "2007     1587\n",
              "2006     1471\n",
              "2003     1286\n",
              "2011     1256\n",
              "2004     1123\n",
              "2012     1084\n",
              "2002     1075\n",
              "1978     1037\n",
              "1995     1014\n",
              "2005     1011\n",
              "1999      979\n",
              "1998      966\n",
              "1990      954\n",
              "1985      945\n",
              "1980      811\n",
              "1996      811\n",
              "1984      779\n",
              "1982      744\n",
              "1994      738\n",
              "1972      708\n",
              "1974      676\n",
              "1997      644\n",
              "1992      640\n",
              "1993      608\n",
              "2001      540\n",
              "1988      521\n",
              "1983      488\n",
              "1975      437\n",
              "1986      434\n",
              "1976      414\n",
              "1970      411\n",
              "1991      324\n",
              "1989      316\n",
              "1987      302\n",
              "1981      238\n",
              "1977      202\n",
              "1979      192\n",
              "1973      184\n",
              "2013      176\n",
              "1971      145\n",
              "1960      102\n",
              "1967       88\n",
              "1963       85\n",
              "1968       77\n",
              "1969       59\n",
              "1964       40\n",
              "1962       30\n",
              "1961       21\n",
              "1965       19\n",
              "1966       17\n",
              "Name: construction_year, dtype: int64"
            ]
          },
          "metadata": {
            "tags": []
          },
          "execution_count": 43
        }
      ]
    },
    {
      "cell_type": "code",
      "metadata": {
        "colab": {
          "base_uri": "https://localhost:8080/"
        },
        "id": "LoHlAz21npUr",
        "outputId": "25cec33f-1c13-4061-8f48-8f9338ad3af3"
      },
      "source": [
        "df.isnull().sum()\n",
        "df['date_recorded'] = pd.to_datetime(df['date_recorded'])\n",
        "df.date_recorded.head(5)\n",
        "print(df.date_recorded.dt.year.head(5))\n",
        "print(df.construction_year.head(5))\n",
        "df['well_age'] = df.date_recorded.dt.year - df.construction_year\n",
        "df = df.drop(['construction_year','date_recorded'], axis=1)\n",
        "df.well_age.head(5)"
      ],
      "execution_count": null,
      "outputs": [
        {
          "output_type": "stream",
          "text": [
            "0    2011\n",
            "1    2013\n",
            "2    2013\n",
            "3    2013\n",
            "4    2011\n",
            "Name: date_recorded, dtype: int64\n",
            "0    1999\n",
            "1    2010\n",
            "2    2009\n",
            "3    1986\n",
            "4       0\n",
            "Name: construction_year, dtype: int64\n"
          ],
          "name": "stdout"
        },
        {
          "output_type": "execute_result",
          "data": {
            "text/plain": [
              "0      12\n",
              "1       3\n",
              "2       4\n",
              "3      27\n",
              "4    2011\n",
              "Name: well_age, dtype: int64"
            ]
          },
          "metadata": {
            "tags": []
          },
          "execution_count": 44
        }
      ]
    },
    {
      "cell_type": "markdown",
      "metadata": {
        "id": "6rEdtgpixVbJ"
      },
      "source": [
        "###Last modeifications and save"
      ]
    },
    {
      "cell_type": "code",
      "metadata": {
        "colab": {
          "base_uri": "https://localhost:8080/"
        },
        "id": "-HJMq2-tEvZD",
        "outputId": "5f13d0d2-ce63-412f-bf08-fac510027cda"
      },
      "source": [
        "df.info()"
      ],
      "execution_count": null,
      "outputs": [
        {
          "output_type": "stream",
          "text": [
            "<class 'pandas.core.frame.DataFrame'>\n",
            "Int64Index: 59400 entries, 0 to 59399\n",
            "Data columns (total 17 columns):\n",
            " #   Column                 Non-Null Count  Dtype  \n",
            "---  ------                 --------------  -----  \n",
            " 0   id                     59400 non-null  int64  \n",
            " 1   amount_tsh             59400 non-null  float64\n",
            " 2   funder                 59400 non-null  object \n",
            " 3   basin                  59400 non-null  object \n",
            " 4   population             59400 non-null  int64  \n",
            " 5   public_meeting         59400 non-null  object \n",
            " 6   scheme_management      59400 non-null  object \n",
            " 7   permit                 59400 non-null  object \n",
            " 8   extraction_type_class  59400 non-null  object \n",
            " 9   payment_type           59400 non-null  object \n",
            " 10  water_quality          59400 non-null  object \n",
            " 11  quantity               59400 non-null  object \n",
            " 12  source_type            59400 non-null  object \n",
            " 13  source_class           59400 non-null  object \n",
            " 14  waterpoint_type        59400 non-null  object \n",
            " 15  status_group           59400 non-null  object \n",
            " 16  well_age               59400 non-null  int64  \n",
            "dtypes: float64(1), int64(3), object(13)\n",
            "memory usage: 8.2+ MB\n"
          ],
          "name": "stdout"
        }
      ]
    },
    {
      "cell_type": "code",
      "metadata": {
        "id": "V6kg3y2oEvW5"
      },
      "source": [
        "#in case there is random capitalization\n",
        "\n",
        "df.funder = df.funder.str.lower()\n",
        "df.basin = df.basin.str.lower()\n",
        "df.extraction_type_class=df.extraction_type_class.str.lower()\n",
        "df.scheme_management = df.scheme_management.str.lower()\n",
        "df.water_quality = df.water_quality.str.lower()\n",
        "df.quantity = df.quantity.str.lower()\n",
        "df.source_type = df.source_type.str.lower()\n",
        "df.source_class = df.source_class.str.lower()\n",
        "df.waterpoint_type = df.waterpoint_type.str.lower()"
      ],
      "execution_count": null,
      "outputs": []
    },
    {
      "cell_type": "code",
      "metadata": {
        "colab": {
          "base_uri": "https://localhost:8080/"
        },
        "id": "VMiC49ENEvUu",
        "outputId": "ca1f9713-f04d-4057-966a-0f70b9b95ae9"
      },
      "source": [
        "df.head()"
      ],
      "execution_count": null,
      "outputs": [
        {
          "output_type": "execute_result",
          "data": {
            "text/html": [
              "<div>\n",
              "<style scoped>\n",
              "    .dataframe tbody tr th:only-of-type {\n",
              "        vertical-align: middle;\n",
              "    }\n",
              "\n",
              "    .dataframe tbody tr th {\n",
              "        vertical-align: top;\n",
              "    }\n",
              "\n",
              "    .dataframe thead th {\n",
              "        text-align: right;\n",
              "    }\n",
              "</style>\n",
              "<table border=\"1\" class=\"dataframe\">\n",
              "  <thead>\n",
              "    <tr style=\"text-align: right;\">\n",
              "      <th></th>\n",
              "      <th>id</th>\n",
              "      <th>amount_tsh</th>\n",
              "      <th>funder</th>\n",
              "      <th>basin</th>\n",
              "      <th>population</th>\n",
              "      <th>public_meeting</th>\n",
              "      <th>scheme_management</th>\n",
              "      <th>permit</th>\n",
              "      <th>extraction_type_class</th>\n",
              "      <th>payment_type</th>\n",
              "      <th>water_quality</th>\n",
              "      <th>quantity</th>\n",
              "      <th>source_type</th>\n",
              "      <th>source_class</th>\n",
              "      <th>waterpoint_type</th>\n",
              "      <th>status_group</th>\n",
              "      <th>well_age</th>\n",
              "    </tr>\n",
              "  </thead>\n",
              "  <tbody>\n",
              "    <tr>\n",
              "      <th>0</th>\n",
              "      <td>69572</td>\n",
              "      <td>6000.0</td>\n",
              "      <td>roman</td>\n",
              "      <td>lake nyasa</td>\n",
              "      <td>109</td>\n",
              "      <td>True</td>\n",
              "      <td>vwc</td>\n",
              "      <td>False</td>\n",
              "      <td>gravity</td>\n",
              "      <td>annually</td>\n",
              "      <td>soft</td>\n",
              "      <td>enough</td>\n",
              "      <td>spring</td>\n",
              "      <td>groundwater</td>\n",
              "      <td>communal standpipe</td>\n",
              "      <td>functional</td>\n",
              "      <td>12</td>\n",
              "    </tr>\n",
              "    <tr>\n",
              "      <th>1</th>\n",
              "      <td>8776</td>\n",
              "      <td>0.0</td>\n",
              "      <td>grumeti</td>\n",
              "      <td>lake victoria</td>\n",
              "      <td>280</td>\n",
              "      <td>other</td>\n",
              "      <td>other</td>\n",
              "      <td>True</td>\n",
              "      <td>gravity</td>\n",
              "      <td>never pay</td>\n",
              "      <td>soft</td>\n",
              "      <td>insufficient</td>\n",
              "      <td>rainwater harvesting</td>\n",
              "      <td>surface</td>\n",
              "      <td>communal standpipe</td>\n",
              "      <td>functional</td>\n",
              "      <td>3</td>\n",
              "    </tr>\n",
              "    <tr>\n",
              "      <th>2</th>\n",
              "      <td>34310</td>\n",
              "      <td>25.0</td>\n",
              "      <td>lottery club</td>\n",
              "      <td>pangani</td>\n",
              "      <td>250</td>\n",
              "      <td>True</td>\n",
              "      <td>vwc</td>\n",
              "      <td>True</td>\n",
              "      <td>gravity</td>\n",
              "      <td>per bucket</td>\n",
              "      <td>soft</td>\n",
              "      <td>enough</td>\n",
              "      <td>dam</td>\n",
              "      <td>surface</td>\n",
              "      <td>communal standpipe multiple</td>\n",
              "      <td>functional</td>\n",
              "      <td>4</td>\n",
              "    </tr>\n",
              "    <tr>\n",
              "      <th>3</th>\n",
              "      <td>67743</td>\n",
              "      <td>0.0</td>\n",
              "      <td>unicef</td>\n",
              "      <td>ruvuma / southern coast</td>\n",
              "      <td>58</td>\n",
              "      <td>True</td>\n",
              "      <td>vwc</td>\n",
              "      <td>True</td>\n",
              "      <td>submersible</td>\n",
              "      <td>never pay</td>\n",
              "      <td>soft</td>\n",
              "      <td>dry</td>\n",
              "      <td>borehole</td>\n",
              "      <td>groundwater</td>\n",
              "      <td>communal standpipe multiple</td>\n",
              "      <td>non functional</td>\n",
              "      <td>27</td>\n",
              "    </tr>\n",
              "    <tr>\n",
              "      <th>4</th>\n",
              "      <td>19728</td>\n",
              "      <td>0.0</td>\n",
              "      <td>action in a</td>\n",
              "      <td>lake victoria</td>\n",
              "      <td>0</td>\n",
              "      <td>True</td>\n",
              "      <td>unknown</td>\n",
              "      <td>True</td>\n",
              "      <td>gravity</td>\n",
              "      <td>never pay</td>\n",
              "      <td>soft</td>\n",
              "      <td>seasonal</td>\n",
              "      <td>rainwater harvesting</td>\n",
              "      <td>surface</td>\n",
              "      <td>communal standpipe</td>\n",
              "      <td>functional</td>\n",
              "      <td>2011</td>\n",
              "    </tr>\n",
              "  </tbody>\n",
              "</table>\n",
              "</div>"
            ],
            "text/plain": [
              "      id  amount_tsh  ...    status_group well_age\n",
              "0  69572      6000.0  ...      functional       12\n",
              "1   8776         0.0  ...      functional        3\n",
              "2  34310        25.0  ...      functional        4\n",
              "3  67743         0.0  ...  non functional       27\n",
              "4  19728         0.0  ...      functional     2011\n",
              "\n",
              "[5 rows x 17 columns]"
            ]
          },
          "metadata": {
            "tags": []
          },
          "execution_count": 47
        }
      ]
    },
    {
      "cell_type": "code",
      "metadata": {
        "id": "1WWKF6nl5NrM"
      },
      "source": [
        "#vals_to_replace = {'functional':2, 'functional needs repair':1,'non functional':0}\n",
        "\n",
        "#df['status_group_vals']  = df.status_group.replace(vals_to_replace)"
      ],
      "execution_count": null,
      "outputs": []
    },
    {
      "cell_type": "code",
      "metadata": {
        "id": "T8fDZqXwxUA0"
      },
      "source": [
        "df.to_csv('/content/drive/MyDrive/Dersler/8_IT541_Machine_Learning/project/train_data_for_models.csv', index=False)"
      ],
      "execution_count": null,
      "outputs": []
    },
    {
      "cell_type": "markdown",
      "metadata": {
        "id": "CLvyg6GcupFj"
      },
      "source": [
        "###Same modifications should be also in the test data."
      ]
    },
    {
      "cell_type": "code",
      "metadata": {
        "id": "AQGWKsbTEvSn"
      },
      "source": [
        "df_test = pd.read_csv(\"/content/drive/MyDrive/Dersler/8_IT541_Machine_Learning/project/test_set_values.csv\")"
      ],
      "execution_count": null,
      "outputs": []
    },
    {
      "cell_type": "code",
      "metadata": {
        "colab": {
          "base_uri": "https://localhost:8080/"
        },
        "id": "UIR1P7_9vLr2",
        "outputId": "14872831-82cd-4ed8-ae56-dd8b3b57b0c0"
      },
      "source": [
        "df_test['date_recorded'] = pd.to_datetime(df_test['date_recorded'])\n",
        "df_test.date_recorded.head(5)\n",
        "print(df_test.date_recorded.dt.year.head(5))\n",
        "print(df_test.construction_year.head(5))\n",
        "df_test['well_age'] = df_test.date_recorded.dt.year - df_test.construction_year\n",
        "df_test = df_test.drop(['construction_year','date_recorded'], axis=1)\n",
        "df_test.well_age.head(5)"
      ],
      "execution_count": null,
      "outputs": [
        {
          "output_type": "stream",
          "text": [
            "0    2013\n",
            "1    2013\n",
            "2    2013\n",
            "3    2013\n",
            "4    2013\n",
            "Name: date_recorded, dtype: int64\n",
            "0    2012\n",
            "1    2000\n",
            "2    2010\n",
            "3    1987\n",
            "4    2000\n",
            "Name: construction_year, dtype: int64\n"
          ],
          "name": "stdout"
        },
        {
          "output_type": "execute_result",
          "data": {
            "text/plain": [
              "0     1\n",
              "1    13\n",
              "2     3\n",
              "3    26\n",
              "4    13\n",
              "Name: well_age, dtype: int64"
            ]
          },
          "metadata": {
            "tags": []
          },
          "execution_count": 51
        }
      ]
    },
    {
      "cell_type": "code",
      "metadata": {
        "colab": {
          "base_uri": "https://localhost:8080/"
        },
        "id": "qZIHjRrPu4PE",
        "outputId": "4e08ce2a-642f-4ac1-83ba-66d78676bca5"
      },
      "source": [
        "df_test.columns"
      ],
      "execution_count": null,
      "outputs": [
        {
          "output_type": "execute_result",
          "data": {
            "text/plain": [
              "Index(['id', 'amount_tsh', 'funder', 'gps_height', 'installer', 'longitude',\n",
              "       'latitude', 'wpt_name', 'num_private', 'basin', 'subvillage', 'region',\n",
              "       'region_code', 'district_code', 'lga', 'ward', 'population',\n",
              "       'public_meeting', 'recorded_by', 'scheme_management', 'scheme_name',\n",
              "       'permit', 'extraction_type', 'extraction_type_group',\n",
              "       'extraction_type_class', 'management', 'management_group', 'payment',\n",
              "       'payment_type', 'water_quality', 'quality_group', 'quantity',\n",
              "       'quantity_group', 'source', 'source_type', 'source_class',\n",
              "       'waterpoint_type', 'waterpoint_type_group', 'well_age'],\n",
              "      dtype='object')"
            ]
          },
          "metadata": {
            "tags": []
          },
          "execution_count": 52
        }
      ]
    },
    {
      "cell_type": "code",
      "metadata": {
        "colab": {
          "base_uri": "https://localhost:8080/"
        },
        "id": "34G5t_Q7vIrj",
        "outputId": "fd409cca-85b2-4222-b1a1-76c981e82ed1"
      },
      "source": [
        "df.info()"
      ],
      "execution_count": null,
      "outputs": [
        {
          "output_type": "stream",
          "text": [
            "<class 'pandas.core.frame.DataFrame'>\n",
            "Int64Index: 59400 entries, 0 to 59399\n",
            "Data columns (total 17 columns):\n",
            " #   Column                 Non-Null Count  Dtype  \n",
            "---  ------                 --------------  -----  \n",
            " 0   id                     59400 non-null  int64  \n",
            " 1   amount_tsh             59400 non-null  float64\n",
            " 2   funder                 59400 non-null  object \n",
            " 3   basin                  59400 non-null  object \n",
            " 4   population             59400 non-null  int64  \n",
            " 5   public_meeting         59400 non-null  object \n",
            " 6   scheme_management      59400 non-null  object \n",
            " 7   permit                 59400 non-null  object \n",
            " 8   extraction_type_class  59400 non-null  object \n",
            " 9   payment_type           59400 non-null  object \n",
            " 10  water_quality          59400 non-null  object \n",
            " 11  quantity               59400 non-null  object \n",
            " 12  source_type            59400 non-null  object \n",
            " 13  source_class           59400 non-null  object \n",
            " 14  waterpoint_type        59400 non-null  object \n",
            " 15  status_group           59400 non-null  object \n",
            " 16  well_age               59400 non-null  int64  \n",
            "dtypes: float64(1), int64(3), object(13)\n",
            "memory usage: 8.2+ MB\n"
          ],
          "name": "stdout"
        }
      ]
    },
    {
      "cell_type": "code",
      "metadata": {
        "id": "e6oXT8Ivu2Lz"
      },
      "source": [
        "df_test = df_test.drop(['gps_height','installer', 'longitude', 'latitude',\n",
        "                        'wpt_name', 'num_private', 'subvillage', 'region', 'region_code', \n",
        "                        'district_code', 'lga', 'ward','recorded_by',\n",
        "                        'extraction_type', 'extraction_type_group','scheme_name',\n",
        "                        'management_group','management','payment','quality_group', 'quantity_group',\n",
        "                        'source', 'waterpoint_type_group'], axis=1)"
      ],
      "execution_count": null,
      "outputs": []
    },
    {
      "cell_type": "code",
      "metadata": {
        "id": "muLBId7KAwfV"
      },
      "source": [
        "df_test.scheme_management = df_test.scheme_management.fillna('unknown')\n",
        "df_test.funder = df_test.funder.fillna('unknown')\n",
        "df_test.public_meeting  = df_test.public_meeting .fillna('other')\n",
        "df_test.permit = df_test.permit.fillna('other')"
      ],
      "execution_count": null,
      "outputs": []
    },
    {
      "cell_type": "code",
      "metadata": {
        "colab": {
          "base_uri": "https://localhost:8080/"
        },
        "id": "cGvTATLiECxg",
        "outputId": "5ccd6eeb-f1fd-4a64-e9c7-cb10f16cac12"
      },
      "source": [
        "df_test.info()"
      ],
      "execution_count": null,
      "outputs": [
        {
          "output_type": "stream",
          "text": [
            "<class 'pandas.core.frame.DataFrame'>\n",
            "RangeIndex: 14850 entries, 0 to 14849\n",
            "Data columns (total 16 columns):\n",
            " #   Column                 Non-Null Count  Dtype  \n",
            "---  ------                 --------------  -----  \n",
            " 0   id                     14850 non-null  int64  \n",
            " 1   amount_tsh             14850 non-null  float64\n",
            " 2   funder                 14850 non-null  object \n",
            " 3   basin                  14850 non-null  object \n",
            " 4   population             14850 non-null  int64  \n",
            " 5   public_meeting         14850 non-null  object \n",
            " 6   scheme_management      14850 non-null  object \n",
            " 7   permit                 14850 non-null  object \n",
            " 8   extraction_type_class  14850 non-null  object \n",
            " 9   payment_type           14850 non-null  object \n",
            " 10  water_quality          14850 non-null  object \n",
            " 11  quantity               14850 non-null  object \n",
            " 12  source_type            14850 non-null  object \n",
            " 13  source_class           14850 non-null  object \n",
            " 14  waterpoint_type        14850 non-null  object \n",
            " 15  well_age               14850 non-null  int64  \n",
            "dtypes: float64(1), int64(3), object(12)\n",
            "memory usage: 1.8+ MB\n"
          ],
          "name": "stdout"
        }
      ]
    },
    {
      "cell_type": "code",
      "metadata": {
        "id": "WIqSXKZpw3vX"
      },
      "source": [
        "df_test.to_csv('/content/drive/MyDrive/Dersler/8_IT541_Machine_Learning/project/test_data_for_models.csv', index=False)"
      ],
      "execution_count": null,
      "outputs": []
    }
  ]
}