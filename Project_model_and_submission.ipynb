{
  "nbformat": 4,
  "nbformat_minor": 0,
  "metadata": {
    "colab": {
      "name": "Project_model_and_submission.ipynb",
      "provenance": [],
      "collapsed_sections": [],
      "mount_file_id": "1WHmhXaFWasPYysO0qdyzIiTTyY2BSDtp",
      "authorship_tag": "ABX9TyNdyOEQg+SOdIH9rbAWTXKZ",
      "include_colab_link": true
    },
    "kernelspec": {
      "name": "python3",
      "display_name": "Python 3"
    },
    "language_info": {
      "name": "python"
    }
  },
  "cells": [
    {
      "cell_type": "markdown",
      "metadata": {
        "id": "view-in-github",
        "colab_type": "text"
      },
      "source": [
        "<a href=\"https://colab.research.google.com/github/giginar/Machinelearning/blob/main/Project_model_and_submission.ipynb\" target=\"_parent\"><img src=\"https://colab.research.google.com/assets/colab-badge.svg\" alt=\"Open In Colab\"/></a>"
      ]
    },
    {
      "cell_type": "code",
      "metadata": {
        "id": "mm6ytF81XqlA"
      },
      "source": [
        "import pandas as pd\n",
        "import re\n",
        "import numpy as np\n",
        "import matplotlib.pyplot as plt\n",
        "import seaborn as sns\n",
        "%matplotlib inline\n",
        "from sklearn.pipeline import Pipeline\n",
        "from sklearn.model_selection import train_test_split\n",
        "from sklearn.preprocessing import StandardScaler\n",
        "from sklearn.linear_model import LogisticRegression\n",
        "from sklearn.ensemble import RandomForestClassifier\n",
        "from sklearn.tree import DecisionTreeClassifier\n",
        "from sklearn.metrics import confusion_matrix,classification_report\n",
        "from sklearn.ensemble import GradientBoostingClassifier\n",
        "from sklearn.model_selection import GridSearchCV\n",
        "from xgboost import XGBClassifier\n",
        "from sklearn import metrics\n",
        "from sklearn.svm import LinearSVC\n",
        "from sklearn.preprocessing import OneHotEncoder\n",
        "from sklearn.metrics import accuracy_score\n",
        "import warnings\n",
        "warnings.filterwarnings(\"ignore\")"
      ],
      "execution_count": null,
      "outputs": []
    },
    {
      "cell_type": "code",
      "metadata": {
        "id": "k6eWLS8_X5Lv"
      },
      "source": [
        "train = pd.read_csv('/content/drive/MyDrive/Dersler/8_IT541_Machine_Learning/project/train_data_for_models.csv')\n",
        "test  = pd.read_csv('/content/drive/MyDrive/Dersler/8_IT541_Machine_Learning/project/test_data_for_models.csv')"
      ],
      "execution_count": null,
      "outputs": []
    },
    {
      "cell_type": "code",
      "metadata": {
        "colab": {
          "base_uri": "https://localhost:8080/"
        },
        "id": "549CX55PafK1",
        "outputId": "2e231637-9861-4b80-88b5-517a8a1a6274"
      },
      "source": [
        "train.info()"
      ],
      "execution_count": null,
      "outputs": [
        {
          "output_type": "stream",
          "text": [
            "<class 'pandas.core.frame.DataFrame'>\n",
            "RangeIndex: 59400 entries, 0 to 59399\n",
            "Data columns (total 21 columns):\n",
            " #   Column                 Non-Null Count  Dtype  \n",
            "---  ------                 --------------  -----  \n",
            " 0   id                     59400 non-null  int64  \n",
            " 1   amount_tsh             59400 non-null  float64\n",
            " 2   funder                 59400 non-null  object \n",
            " 3   gps_height             59400 non-null  int64  \n",
            " 4   basin                  59400 non-null  object \n",
            " 5   region                 59400 non-null  object \n",
            " 6   region_code            59400 non-null  int64  \n",
            " 7   lga                    59400 non-null  object \n",
            " 8   population             59400 non-null  int64  \n",
            " 9   public_meeting         59400 non-null  object \n",
            " 10  scheme_management      59400 non-null  object \n",
            " 11  permit                 59400 non-null  object \n",
            " 12  extraction_type_class  59400 non-null  object \n",
            " 13  payment_type           59400 non-null  object \n",
            " 14  water_quality          59400 non-null  object \n",
            " 15  quantity               59400 non-null  object \n",
            " 16  source_type            59400 non-null  object \n",
            " 17  source_class           59400 non-null  object \n",
            " 18  waterpoint_type        59400 non-null  object \n",
            " 19  status_group           59400 non-null  object \n",
            " 20  well_age               59400 non-null  int64  \n",
            "dtypes: float64(1), int64(5), object(15)\n",
            "memory usage: 9.5+ MB\n"
          ],
          "name": "stdout"
        }
      ]
    },
    {
      "cell_type": "code",
      "metadata": {
        "colab": {
          "base_uri": "https://localhost:8080/"
        },
        "id": "m33sUIPBYL1a",
        "outputId": "d9f17cb5-108b-47fb-a4a2-686ecc67f035"
      },
      "source": [
        "train.shape,test.shape"
      ],
      "execution_count": null,
      "outputs": [
        {
          "output_type": "execute_result",
          "data": {
            "text/plain": [
              "((59400, 21), (14850, 20))"
            ]
          },
          "metadata": {
            "tags": []
          },
          "execution_count": 32
        }
      ]
    },
    {
      "cell_type": "code",
      "metadata": {
        "id": "KlNC141IYOqH"
      },
      "source": [
        "target=train.pop('status_group')"
      ],
      "execution_count": null,
      "outputs": []
    },
    {
      "cell_type": "code",
      "metadata": {
        "colab": {
          "base_uri": "https://localhost:8080/"
        },
        "id": "qMAAmqflYRS4",
        "outputId": "ffacd9d0-4dca-42a2-ec79-a10c6c416442"
      },
      "source": [
        "train['train']=1\n",
        "test['train']=0\n",
        "train.info()"
      ],
      "execution_count": null,
      "outputs": [
        {
          "output_type": "stream",
          "text": [
            "<class 'pandas.core.frame.DataFrame'>\n",
            "RangeIndex: 59400 entries, 0 to 59399\n",
            "Data columns (total 21 columns):\n",
            " #   Column                 Non-Null Count  Dtype  \n",
            "---  ------                 --------------  -----  \n",
            " 0   id                     59400 non-null  int64  \n",
            " 1   amount_tsh             59400 non-null  float64\n",
            " 2   funder                 59400 non-null  object \n",
            " 3   gps_height             59400 non-null  int64  \n",
            " 4   basin                  59400 non-null  object \n",
            " 5   region                 59400 non-null  object \n",
            " 6   region_code            59400 non-null  int64  \n",
            " 7   lga                    59400 non-null  object \n",
            " 8   population             59400 non-null  int64  \n",
            " 9   public_meeting         59400 non-null  object \n",
            " 10  scheme_management      59400 non-null  object \n",
            " 11  permit                 59400 non-null  object \n",
            " 12  extraction_type_class  59400 non-null  object \n",
            " 13  payment_type           59400 non-null  object \n",
            " 14  water_quality          59400 non-null  object \n",
            " 15  quantity               59400 non-null  object \n",
            " 16  source_type            59400 non-null  object \n",
            " 17  source_class           59400 non-null  object \n",
            " 18  waterpoint_type        59400 non-null  object \n",
            " 19  well_age               59400 non-null  int64  \n",
            " 20  train                  59400 non-null  int64  \n",
            "dtypes: float64(1), int64(6), object(14)\n",
            "memory usage: 9.5+ MB\n"
          ],
          "name": "stdout"
        }
      ]
    },
    {
      "cell_type": "code",
      "metadata": {
        "colab": {
          "base_uri": "https://localhost:8080/"
        },
        "id": "OSKyNxG1YSug",
        "outputId": "d2de2f6c-e572-4861-a3a1-692c935d703c"
      },
      "source": [
        "train.shape,test.shape"
      ],
      "execution_count": null,
      "outputs": [
        {
          "output_type": "execute_result",
          "data": {
            "text/plain": [
              "((59400, 21), (14850, 21))"
            ]
          },
          "metadata": {
            "tags": []
          },
          "execution_count": 35
        }
      ]
    },
    {
      "cell_type": "code",
      "metadata": {
        "id": "dTVFUXNlYUPT"
      },
      "source": [
        "combined = pd.concat([train, test])"
      ],
      "execution_count": null,
      "outputs": []
    },
    {
      "cell_type": "code",
      "metadata": {
        "colab": {
          "base_uri": "https://localhost:8080/"
        },
        "id": "cMeCtGXlYWPh",
        "outputId": "c21eabe5-5707-4d35-f7cb-e83f8f60cfd9"
      },
      "source": [
        "combined.info()"
      ],
      "execution_count": null,
      "outputs": [
        {
          "output_type": "stream",
          "text": [
            "<class 'pandas.core.frame.DataFrame'>\n",
            "Int64Index: 74250 entries, 0 to 14849\n",
            "Data columns (total 21 columns):\n",
            " #   Column                 Non-Null Count  Dtype  \n",
            "---  ------                 --------------  -----  \n",
            " 0   id                     74250 non-null  int64  \n",
            " 1   amount_tsh             74250 non-null  float64\n",
            " 2   funder                 74250 non-null  object \n",
            " 3   gps_height             74250 non-null  int64  \n",
            " 4   basin                  74250 non-null  object \n",
            " 5   region                 74250 non-null  object \n",
            " 6   region_code            74250 non-null  int64  \n",
            " 7   lga                    74250 non-null  object \n",
            " 8   population             74250 non-null  int64  \n",
            " 9   public_meeting         74250 non-null  object \n",
            " 10  scheme_management      74250 non-null  object \n",
            " 11  permit                 74250 non-null  object \n",
            " 12  extraction_type_class  74250 non-null  object \n",
            " 13  payment_type           74250 non-null  object \n",
            " 14  water_quality          74250 non-null  object \n",
            " 15  quantity               74250 non-null  object \n",
            " 16  source_type            74250 non-null  object \n",
            " 17  source_class           74250 non-null  object \n",
            " 18  waterpoint_type        74250 non-null  object \n",
            " 19  well_age               74250 non-null  int64  \n",
            " 20  train                  74250 non-null  int64  \n",
            "dtypes: float64(1), int64(6), object(14)\n",
            "memory usage: 12.5+ MB\n"
          ],
          "name": "stdout"
        }
      ]
    },
    {
      "cell_type": "code",
      "metadata": {
        "id": "h2XEaTMWYczS"
      },
      "source": [
        "combined['funder'] = pd.factorize(combined['funder'])[0]\n",
        "combined['basin'] = pd.factorize(combined['basin'])[0]\n",
        "combined['region'] = pd.factorize(combined['region'])[0]\n",
        "combined['lga'] = pd.factorize(combined['lga'])[0]\n",
        "combined['public_meeting'] = pd.factorize(combined['public_meeting'])[0]\n",
        "combined['scheme_management'] = pd.factorize(combined['scheme_management'])[0]\n",
        "combined['permit'] = pd.factorize(combined['permit'])[0]\n",
        "combined['extraction_type_class'] = pd.factorize(combined['extraction_type_class'])[0]\n",
        "combined['payment_type'] = pd.factorize(combined['payment_type'])[0]\n",
        "combined['water_quality'] = pd.factorize(combined['water_quality'])[0]\n",
        "combined['quantity'] = pd.factorize(combined['quantity'])[0]\n",
        "combined['source_type'] = pd.factorize(combined['source_type'])[0]\n",
        "combined['source_class'] = pd.factorize(combined['source_class'])[0]\n",
        "combined['waterpoint_type'] = pd.factorize(combined['waterpoint_type'])[0]"
      ],
      "execution_count": null,
      "outputs": []
    },
    {
      "cell_type": "code",
      "metadata": {
        "id": "9un3F9NWZC7c"
      },
      "source": [
        "train_df = combined[combined[\"train\"] == 1]\n",
        "test_df = combined[combined[\"train\"] == 0]\n",
        "train_df.drop([\"train\"], axis=1, inplace=True)\n",
        "train_df.drop(['id'],axis=1, inplace=True)\n",
        "test_df.drop([\"train\"], axis=1, inplace=True)"
      ],
      "execution_count": null,
      "outputs": []
    },
    {
      "cell_type": "code",
      "metadata": {
        "id": "0p812nXMZF_G"
      },
      "source": [
        "#define X train\n",
        "X = train_df\n",
        "#y_train indentified at the beginning \n",
        "y = target"
      ],
      "execution_count": null,
      "outputs": []
    },
    {
      "cell_type": "code",
      "metadata": {
        "id": "WkvxUmllZHke"
      },
      "source": [
        "#model = RandomForestClassifier(n_estimators=100, max_depth=10)\n",
        "#score_rfc_1 = 0.7295\n",
        "#model = DecisionTreeClassifier(max_depth=10)\n",
        "#score_dtc_1 = 0.6469\n",
        "#model = GradientBoostingClassifier(ccp_alpha=0.01, n_estimators=100, min_samples_split=4)\n",
        "#score_gbc_1 = 0.6877\n",
        "#model = XGBClassifier(reg_lambda=5, n_estimators=100, reg_alpha=0.5)\n",
        "#score_xgbc_1 = 0.7143\n",
        "#model = XGBClassifier(objective = 'multi:softmax', booster = 'gbtree', nrounds = 'min.error.idx', num_class = 4, maximize = False, eval_metric = 'merror', eta = .2,max_depth = 14, colsample_bytree = .4)\n",
        "#score_xgbc_2 = 0.7384\n",
        "#model = XGBClassifier(reg_lambda=5, n_estimators=100, reg_alpha=0.5)\n",
        "\n",
        "#model = GradientBoostingClassifier(min_samples_leaf=16, n_estimators=100, learning_rate=0.075, max_features=1, max_depth=14)\n",
        "#score_GBC_2=0.7098\n",
        "#model = GradientBoostingClassifier(min_samples_leaf=16, n_estimators=100, learning_rate=0.075, max_features=1, max_depth=14)\n",
        "#submission_GBC_3withDataV2=0.6976\n",
        "#model = XGBClassifier(max_depth=12, n_estimators=1200,early_stopping_rounds = 9, nfold=6)\n",
        "#submission_GBC_4=0.6539\n",
        "#model = XGBClassifier(objective = 'multi:softmax', booster = 'gbtree', nrounds = 'min.error.idx', num_class = 4, maximize = False, eval_metric = 'merror', eta = .2,max_depth = 14, colsample_bytree = .4)\n",
        "#score_xgbc_3 =0.7613\n",
        "#model = RandomForestClassifier(n_estimators=100, max_depth=10)\n",
        "#score_rfc_2 = 0.7422\n",
        "model = XGBClassifier(objective = 'multi:softmax', booster = 'gbtree', nrounds = 'min.error.idx', num_class = 4, maximize = False, eval_metric = 'merror', eta = .2,max_depth = 14, colsample_bytree = .4)\n",
        "#submission_score_xgbc_4 = 0.7731"
      ],
      "execution_count": null,
      "outputs": []
    },
    {
      "cell_type": "code",
      "metadata": {
        "colab": {
          "base_uri": "https://localhost:8080/"
        },
        "id": "MeDMu5fTZXC1",
        "outputId": "357556f2-264c-46e8-d36e-8eee0780d37d"
      },
      "source": [
        "from sklearn.model_selection import cross_val_score\n",
        "cross_val_score(model, X, y, cv=3)"
      ],
      "execution_count": null,
      "outputs": [
        {
          "output_type": "execute_result",
          "data": {
            "text/plain": [
              "array([0.8010101 , 0.8029798 , 0.80070707])"
            ]
          },
          "metadata": {
            "tags": []
          },
          "execution_count": 42
        }
      ]
    },
    {
      "cell_type": "code",
      "metadata": {
        "colab": {
          "base_uri": "https://localhost:8080/"
        },
        "id": "DFInoFSpZpP7",
        "outputId": "7539c3d6-4680-4089-cdf1-f9361428bca0"
      },
      "source": [
        "model.fit(X,y)\n",
        "X.info()\n",
        "importances = model.feature_importances_\n",
        "importances"
      ],
      "execution_count": null,
      "outputs": [
        {
          "output_type": "stream",
          "text": [
            "<class 'pandas.core.frame.DataFrame'>\n",
            "Int64Index: 59400 entries, 0 to 59399\n",
            "Data columns (total 19 columns):\n",
            " #   Column                 Non-Null Count  Dtype  \n",
            "---  ------                 --------------  -----  \n",
            " 0   amount_tsh             59400 non-null  float64\n",
            " 1   funder                 59400 non-null  int64  \n",
            " 2   gps_height             59400 non-null  int64  \n",
            " 3   basin                  59400 non-null  int64  \n",
            " 4   region                 59400 non-null  int64  \n",
            " 5   region_code            59400 non-null  int64  \n",
            " 6   lga                    59400 non-null  int64  \n",
            " 7   population             59400 non-null  int64  \n",
            " 8   public_meeting         59400 non-null  int64  \n",
            " 9   scheme_management      59400 non-null  int64  \n",
            " 10  permit                 59400 non-null  int64  \n",
            " 11  extraction_type_class  59400 non-null  int64  \n",
            " 12  payment_type           59400 non-null  int64  \n",
            " 13  water_quality          59400 non-null  int64  \n",
            " 14  quantity               59400 non-null  int64  \n",
            " 15  source_type            59400 non-null  int64  \n",
            " 16  source_class           59400 non-null  int64  \n",
            " 17  waterpoint_type        59400 non-null  int64  \n",
            " 18  well_age               59400 non-null  int64  \n",
            "dtypes: float64(1), int64(18)\n",
            "memory usage: 9.1 MB\n"
          ],
          "name": "stdout"
        },
        {
          "output_type": "execute_result",
          "data": {
            "text/plain": [
              "array([0.03329914, 0.02416009, 0.02104076, 0.0249998 , 0.03356763,\n",
              "       0.03543364, 0.04111778, 0.01809627, 0.02791829, 0.02706558,\n",
              "       0.02163546, 0.09797889, 0.03117285, 0.02701665, 0.33182117,\n",
              "       0.0278319 , 0.03076991, 0.1183215 , 0.02675259], dtype=float32)"
            ]
          },
          "metadata": {
            "tags": []
          },
          "execution_count": 43
        }
      ]
    },
    {
      "cell_type": "code",
      "metadata": {
        "colab": {
          "base_uri": "https://localhost:8080/"
        },
        "id": "iadKn9_SZvGe",
        "outputId": "24d9c68e-488f-4d21-f5ac-2ccc8e7a1bfd"
      },
      "source": [
        "importances = model.feature_importances_\n",
        "importances\n",
        "indices = np.argsort(importances)[::-1]\n",
        "\n",
        "# Print the feature ranking\n",
        "print(\"Feature ranking:\")\n",
        "\n",
        "for f in range(X.shape[1]):\n",
        "    print(\"%d. feature %d (%f)\" % (f + 1, indices[f], importances[indices[f]]))\n",
        "\n",
        "for f in range(X.shape[1]):\n",
        "    print(X.columns[indices[f]],end=', ')"
      ],
      "execution_count": null,
      "outputs": [
        {
          "output_type": "stream",
          "text": [
            "Feature ranking:\n",
            "1. feature 14 (0.331821)\n",
            "2. feature 17 (0.118322)\n",
            "3. feature 11 (0.097979)\n",
            "4. feature 6 (0.041118)\n",
            "5. feature 5 (0.035434)\n",
            "6. feature 4 (0.033568)\n",
            "7. feature 0 (0.033299)\n",
            "8. feature 12 (0.031173)\n",
            "9. feature 16 (0.030770)\n",
            "10. feature 8 (0.027918)\n",
            "11. feature 15 (0.027832)\n",
            "12. feature 9 (0.027066)\n",
            "13. feature 13 (0.027017)\n",
            "14. feature 18 (0.026753)\n",
            "15. feature 3 (0.025000)\n",
            "16. feature 1 (0.024160)\n",
            "17. feature 10 (0.021635)\n",
            "18. feature 2 (0.021041)\n",
            "19. feature 7 (0.018096)\n",
            "quantity, waterpoint_type, extraction_type_class, lga, region_code, region, amount_tsh, payment_type, source_class, public_meeting, source_type, scheme_management, water_quality, well_age, basin, funder, permit, gps_height, population, "
          ],
          "name": "stdout"
        }
      ]
    },
    {
      "cell_type": "code",
      "metadata": {
        "id": "7gp-vSLEZ11v"
      },
      "source": [
        "X_test=test_df"
      ],
      "execution_count": null,
      "outputs": []
    },
    {
      "cell_type": "code",
      "metadata": {
        "colab": {
          "base_uri": "https://localhost:8080/"
        },
        "id": "7BGWmpVlZ3Gl",
        "outputId": "f90c771f-341c-41a2-ae67-ee43b5bffe0e"
      },
      "source": [
        "model.fit(X,y)"
      ],
      "execution_count": null,
      "outputs": [
        {
          "output_type": "execute_result",
          "data": {
            "text/plain": [
              "XGBClassifier(base_score=0.5, booster='gbtree', colsample_bylevel=1,\n",
              "              colsample_bynode=1, colsample_bytree=0.4, eta=0.2,\n",
              "              eval_metric='merror', gamma=0, learning_rate=0.1,\n",
              "              max_delta_step=0, max_depth=14, maximize=False,\n",
              "              min_child_weight=1, missing=None, n_estimators=100, n_jobs=1,\n",
              "              nrounds='min.error.idx', nthread=None, num_class=4,\n",
              "              objective='multi:softprob', random_state=0, reg_alpha=0,\n",
              "              reg_lambda=1, scale_pos_weight=1, seed=None, silent=None,\n",
              "              subsample=1, verbosity=1)"
            ]
          },
          "metadata": {
            "tags": []
          },
          "execution_count": 46
        }
      ]
    },
    {
      "cell_type": "code",
      "metadata": {
        "id": "qRZEMUhMZ4ui"
      },
      "source": [
        "a=X_test['id']\n",
        "X_test.drop(['id'],axis=1, inplace=True)\n",
        "y_pred = model.predict(X_test)"
      ],
      "execution_count": null,
      "outputs": []
    },
    {
      "cell_type": "code",
      "metadata": {
        "id": "c0h9L7rbaOcg"
      },
      "source": [
        "y_pred=pd.DataFrame(y_pred)\n",
        "y_pred['id']=a\n",
        "y_pred.columns=['status_group','id']\n",
        "y_pred=y_pred[['id','status_group']]"
      ],
      "execution_count": null,
      "outputs": []
    },
    {
      "cell_type": "code",
      "metadata": {
        "colab": {
          "base_uri": "https://localhost:8080/"
        },
        "id": "rFNGdq_1aRkW",
        "outputId": "f364193a-a51e-4a1d-dca5-8ee0af6e90f6"
      },
      "source": [
        "y_pred.info()"
      ],
      "execution_count": null,
      "outputs": [
        {
          "output_type": "stream",
          "text": [
            "<class 'pandas.core.frame.DataFrame'>\n",
            "RangeIndex: 14850 entries, 0 to 14849\n",
            "Data columns (total 2 columns):\n",
            " #   Column        Non-Null Count  Dtype \n",
            "---  ------        --------------  ----- \n",
            " 0   id            14850 non-null  int64 \n",
            " 1   status_group  14850 non-null  object\n",
            "dtypes: int64(1), object(1)\n",
            "memory usage: 232.2+ KB\n"
          ],
          "name": "stdout"
        }
      ]
    },
    {
      "cell_type": "code",
      "metadata": {
        "colab": {
          "base_uri": "https://localhost:8080/"
        },
        "id": "NAdBXFdie7hC",
        "outputId": "4ec75ccc-8bcf-428e-9c6d-94aa59bd3493"
      },
      "source": [
        "validation_accuracy = model.score(X, y)\n",
        "print('Validation accuracy: ', validation_accuracy)    "
      ],
      "execution_count": null,
      "outputs": [
        {
          "output_type": "stream",
          "text": [
            "Validation accuracy:  0.9063131313131313\n"
          ],
          "name": "stdout"
        }
      ]
    },
    {
      "cell_type": "code",
      "metadata": {
        "id": "S14Z-tZEaSXc"
      },
      "source": [
        "pd.DataFrame(y_pred).to_csv(\"/content/drive/MyDrive/Dersler/8_IT541_Machine_Learning/project/submission_score_xgbc_4.csv\")"
      ],
      "execution_count": null,
      "outputs": []
    }
  ]
}